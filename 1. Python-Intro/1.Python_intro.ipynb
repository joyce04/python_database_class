{
 "cells": [
  {
   "cell_type": "markdown",
   "metadata": {},
   "source": [
    "## pip(PyPI- the Python Package Index) 에 대하여\n",
    "\n",
    "- 파이썬용 패키지 관리자\n",
    "- 더 상세한 내용은 https://pypi.org/ 에서 확인하실 수 있습니다.\n",
    "\n",
    "- \"좋은 패키지를 적용해 빠르게 개발, 분석하는 것이 용이하다.\""
   ]
  },
  {
   "cell_type": "markdown",
   "metadata": {},
   "source": [
    "## 독립환경\n",
    "\n",
    "- 하지만 pip로 계속 파이선 패키지를 설치하다보면, 어느 모듈이 어느 버전으로 설치되었는지 트랙킹이 어려워집니다. 패키지 버전에 따라서 호환이 안되는 경우도 존재하기 때문에 환경을 분리할 수 있는 virtualenv, conda, pyenv 등이 등장하게 됩니다.\n",
    "- **기존에 다른 수업이나 개발을 위한 anaconda나 pyenv가 설치 되어있는 경우, 추가로 설치하실 필요는 없습니다.**"
   ]
  },
  {
   "cell_type": "markdown",
   "metadata": {},
   "source": [
    "## Jupyter Notebook이란"
   ]
  },
  {
   "cell_type": "markdown",
   "metadata": {},
   "source": [
    "#### 커맨드 팔레트 보기 : \n",
    "\n",
    "- (Windows) control + shift + P\n",
    "- (Mac OS X) command + shift + P"
   ]
  },
  {
   "cell_type": "markdown",
   "metadata": {},
   "source": [
    "#### Esc : command 모드로 이동\n",
    "\n",
    "command 모드에서는 \n",
    "- A 로 새로운 셀을 현재 셀 위에 추가할 수 있습니다.\n",
    "- B 로 새로운 셀을 현재 셀 밑에 추가할 수 있습니다.  \n",
    "\n",
    "\n",
    "- M 으로 현재 셀을 마크다운 셀로 이동할 수 있습니다.\n",
    "- Y 로 현재 셀을 다시 코드 셀로 이동할 수 있습니다.  \n",
    "\n",
    "\n",
    "- DD (두번 누름)으로 현재 셀을 삭제 할 수 있습니다."
   ]
  },
  {
   "cell_type": "markdown",
   "metadata": {},
   "source": [
    "#### Enter : edit 모드로 이동"
   ]
  },
  {
   "cell_type": "code",
   "execution_count": 2,
   "metadata": {},
   "outputs": [],
   "source": [
    "\n"
   ]
  },
  {
   "cell_type": "code",
   "execution_count": null,
   "metadata": {},
   "outputs": [],
   "source": [
    "re"
   ]
  }
 ],
 "metadata": {
  "kernelspec": {
   "display_name": "Python 3",
   "language": "python",
   "name": "python3"
  },
  "language_info": {
   "codemirror_mode": {
    "name": "ipython",
    "version": 3
   },
   "file_extension": ".py",
   "mimetype": "text/x-python",
   "name": "python",
   "nbconvert_exporter": "python",
   "pygments_lexer": "ipython3",
   "version": "3.6.4"
  }
 },
 "nbformat": 4,
 "nbformat_minor": 2
}
