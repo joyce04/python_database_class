{
 "cells": [
  {
   "cell_type": "markdown",
   "metadata": {},
   "source": [
    "## pip(PyPI- the Python Package Index) 에 대하여\n",
    "\n",
    "- 파이썬용 패키지 관리자\n",
    "- 더 상세한 내용은 https://pypi.org/ 에서 확인하실 수 있습니다."
   ]
  },
  {
   "cell_type": "markdown",
   "metadata": {},
   "source": [
    "## 독립환경\n",
    "\n",
    "- 하지만 pip로 계속 파이선 패키지를 설치하다보면, 어느 모듈이 어느 버전으로 설치되었는지 트랙킹이 어려워집니다. 패키지 버전에 따라서 호환이 안되는 경우도 존재하기 때문에 환경을 분리할 수 있는 virtualenv, conda, pyenv 등이 등장하게 됩니다.\n",
    "- **기존에 다른 수업이나 개발을 위한 anaconda나 pyenv가 설치 되어있는 경우, 추가로 설치하실 필요는 없습니다.**"
   ]
  },
  {
   "cell_type": "markdown",
   "metadata": {},
   "source": [
    "## Jupyter Notebook이란"
   ]
  },
  {
   "cell_type": "markdown",
   "metadata": {},
   "source": [
    "#### 코드를 여러 줄로 나누고 싶을 때"
   ]
  },
  {
   "cell_type": "code",
   "execution_count": null,
   "metadata": {},
   "outputs": [],
   "source": []
  },
  {
   "cell_type": "markdown",
   "metadata": {},
   "source": [
    "## Python에 대한 간략한 소개\n",
    "\n",
    "- "
   ]
  },
  {
   "cell_type": "code",
   "execution_count": null,
   "metadata": {},
   "outputs": [],
   "source": []
  }
 ],
 "metadata": {
  "kernelspec": {
   "display_name": "Python 3",
   "language": "python",
   "name": "python3"
  },
  "language_info": {
   "codemirror_mode": {
    "name": "ipython",
    "version": 3
   },
   "file_extension": ".py",
   "mimetype": "text/x-python",
   "name": "python",
   "nbconvert_exporter": "python",
   "pygments_lexer": "ipython3",
   "version": "3.6.4"
  }
 },
 "nbformat": 4,
 "nbformat_minor": 2
}
