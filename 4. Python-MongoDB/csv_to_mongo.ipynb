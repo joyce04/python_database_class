{
 "cells": [
  {
   "cell_type": "code",
   "execution_count": 2,
   "metadata": {},
   "outputs": [],
   "source": [
    "import sys\n",
    "import pandas as pd\n",
    "import numpy as np\n",
    "from pymongo import MongoClient"
   ]
  },
  {
   "cell_type": "code",
   "execution_count": 7,
   "metadata": {},
   "outputs": [],
   "source": [
    "import urllib"
   ]
  },
  {
   "cell_type": "code",
   "execution_count": 5,
   "metadata": {},
   "outputs": [],
   "source": [
    "# murl = \"mongodb://admin:<PASSWORD>@clusterXXX&retryWrites=true\"\n",
    "# Atlas -> connection -> connect your application -> standard connection string -> copy\n",
    "murl = 'mongodb://admin:'+urllib.parse.quote('비밀번호')+'standard connection string'\n",
    "\n",
    "\n",
    "client = MongoClient(murl, 27017)\n",
    "\n",
    "wc_match = pd.read_csv('./data/wc_match.tsv', sep='\\t')\n",
    "team = pd.read_csv('./data/team.tsv', sep='\\t')\n",
    "players = pd.read_csv('./data/players.tsv', sep='\\t')"
   ]
  },
  {
   "cell_type": "code",
   "execution_count": 6,
   "metadata": {},
   "outputs": [
    {
     "name": "stderr",
     "output_type": "stream",
     "text": [
      "/Users/grace/workspace/keras/venv/lib/python3.6/site-packages/ipykernel_launcher.py:22: DeprecationWarning: remove is deprecated. Use delete_one or delete_many instead.\n"
     ]
    },
    {
     "data": {
      "text/plain": [
       "{'$clusterTime': {'clusterTime': Timestamp(1541679754, 64),\n",
       "  'signature': {'hash': b'\\x9c\\x97\\xf9\\xb9\\x8fW_\\xe7\\xdc{=\\x8e\\xb5_3\\xda\\x7f\\x07u\\x04',\n",
       "   'keyId': 6605358658400288769}},\n",
       " 'electionId': ObjectId('7fffffff0000000000000008'),\n",
       " 'n': 64,\n",
       " 'ok': 1.0,\n",
       " 'opTime': {'t': 8, 'ts': Timestamp(1541679754, 64)},\n",
       " 'operationTime': Timestamp(1541679754, 64)}"
      ]
     },
     "execution_count": 6,
     "metadata": {},
     "output_type": "execute_result"
    },
    {
     "data": {
      "text/plain": [
       "<pymongo.results.InsertManyResult at 0x10e568f48>"
      ]
     },
     "execution_count": 6,
     "metadata": {},
     "output_type": "execute_result"
    },
    {
     "name": "stdout",
     "output_type": "stream",
     "text": [
      "64\n"
     ]
    },
    {
     "name": "stderr",
     "output_type": "stream",
     "text": [
      "/Users/grace/workspace/keras/venv/lib/python3.6/site-packages/ipykernel_launcher.py:24: DeprecationWarning: count is deprecated. Use estimated_document_count or count_documents instead. Please note that $where must be replaced by $expr, $near must be replaced by $geoWithin with $center, and $nearSphere must be replaced by $geoWithin with $centerSphere\n"
     ]
    }
   ],
   "source": [
    "players.stat_value = players.stat_value.apply(lambda x: pd.to_numeric(x.replace('%', '')) / 100 if '%' in x \\\n",
    "                                            else pd.to_numeric(x.replace(',', '')) if ',' in x \\\n",
    "                                            else pd.to_numeric(x.split('\\'')[0]) * 60 + pd.to_numeric(x.split('\\'')[1].split('\\\"')[0]) if '\\'' in x \\\n",
    "                                            else pd.to_numeric(x.replace('\\\"', '')) if '\\\"' in x \\\n",
    "                                            else pd.to_numeric(x) if ord(x[0]) < 60\\\n",
    "                                            else x)\n",
    "\n",
    "documents = []\n",
    "for match in wc_match.iterrows():\n",
    "    document = {}\n",
    "    home_players = list((v.dropna().to_dict()) for k, v in players[(players.match_id == match[1]['id']) & (players.team_id == match[1]['home_team_id']) & (players.half == 'total') & \\\n",
    "        (~players.stat_type.isin(['POS', 'SUB', 'DZONE1', 'DZONE2', 'DZONE3', 'DZONE4', 'DZONE5', 'TZONE1', 'TZONE2', 'TZONE3', 'TZONE4', 'TZONE5']))]\\\n",
    ".pivot_table(values='stat_value', index=['num', 'name', 'club', 'position'], columns='stat_type', aggfunc='first')\\\n",
    ".reset_index().iterrows())\n",
    "    away_players = list((v.dropna().to_dict()) for k, v in players[(players.match_id == match[1]['id']) & (players.team_id == match[1]['away_team_id']) & (players.half == 'total') & \\\n",
    "        (~players.stat_type.isin(['POS', 'SUB', 'DZONE1', 'DZONE2', 'DZONE3', 'DZONE4', 'DZONE5', 'TZONE1', 'TZONE2', 'TZONE3', 'TZONE4', 'TZONE5']))]\\\n",
    ".pivot_table(values='stat_value', index=['num', 'name', 'club', 'position'], columns='stat_type', aggfunc='first')\\\n",
    ".reset_index().iterrows())\n",
    "\n",
    "    document['date'] = match[1]['match_date']    \n",
    "    document['home_team'] = {\n",
    "        'country': team[team.id == match[1]['home_team_id']].country.values[0], \n",
    "        'score': match[1]['home_team_score'],\n",
    "        'players': home_players\n",
    "    }\n",
    "    document['away_team'] = {\n",
    "        'country': team[team.id == match[1]['away_team_id']].country.values[0], \n",
    "        'score': match[1]['away_team_score'],\n",
    "        'players': away_players\n",
    "    }\n",
    "    documents.append(document)\n",
    "\n",
    "client.Football.wc_match.remove()\n",
    "client.Football.wc_match.insert_many(documents)\n",
    "print(client.Football.wc_match.count())"
   ]
  },
  {
   "cell_type": "code",
   "execution_count": null,
   "metadata": {},
   "outputs": [],
   "source": []
  }
 ],
 "metadata": {
  "kernelspec": {
   "display_name": "Python 3",
   "language": "python",
   "name": "python3"
  },
  "language_info": {
   "codemirror_mode": {
    "name": "ipython",
    "version": 3
   },
   "file_extension": ".py",
   "mimetype": "text/x-python",
   "name": "python",
   "nbconvert_exporter": "python",
   "pygments_lexer": "ipython3",
   "version": "3.6.4"
  }
 },
 "nbformat": 4,
 "nbformat_minor": 2
}
