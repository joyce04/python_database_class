{
 "cells": [
  {
   "cell_type": "code",
   "execution_count": 1,
   "metadata": {},
   "outputs": [],
   "source": [
    "import db_conn\n",
    "import pandas as pd\n",
    "import numpy as np\n",
    "import collections\n",
    "from IPython.display import display\n",
    "\n",
    "pd.set_option('display.max_rows', 500)\n",
    "pd.set_option('display.max_columns', 500)"
   ]
  },
  {
   "cell_type": "code",
   "execution_count": 2,
   "metadata": {},
   "outputs": [
    {
     "data": {
      "text/plain": [
       "[{'Tables_in_football_worldcup': 'player'},\n",
       " {'Tables_in_football_worldcup': 'player_stat'},\n",
       " {'Tables_in_football_worldcup': 'stat_code'},\n",
       " {'Tables_in_football_worldcup': 'team'},\n",
       " {'Tables_in_football_worldcup': 'team_play_stat'},\n",
       " {'Tables_in_football_worldcup': 'wc_match'}]"
      ]
     },
     "execution_count": 2,
     "metadata": {},
     "output_type": "execute_result"
    }
   ],
   "source": [
    "db_conn.select_query('show tables')"
   ]
  },
  {
   "cell_type": "code",
   "execution_count": 3,
   "metadata": {},
   "outputs": [],
   "source": [
    "wc_match = pd.DataFrame(db_conn.select_query('select * from wc_match'))"
   ]
  },
  {
   "cell_type": "code",
   "execution_count": 4,
   "metadata": {},
   "outputs": [
    {
     "data": {
      "text/html": [
       "<div>\n",
       "<style scoped>\n",
       "    .dataframe tbody tr th:only-of-type {\n",
       "        vertical-align: middle;\n",
       "    }\n",
       "\n",
       "    .dataframe tbody tr th {\n",
       "        vertical-align: top;\n",
       "    }\n",
       "\n",
       "    .dataframe thead th {\n",
       "        text-align: right;\n",
       "    }\n",
       "</style>\n",
       "<table border=\"1\" class=\"dataframe\">\n",
       "  <thead>\n",
       "    <tr style=\"text-align: right;\">\n",
       "      <th></th>\n",
       "      <th>away_team_id</th>\n",
       "      <th>away_team_score</th>\n",
       "      <th>home_team_id</th>\n",
       "      <th>home_team_score</th>\n",
       "      <th>id</th>\n",
       "      <th>match_date</th>\n",
       "      <th>match_location</th>\n",
       "    </tr>\n",
       "  </thead>\n",
       "  <tbody>\n",
       "    <tr>\n",
       "      <th>0</th>\n",
       "      <td>2</td>\n",
       "      <td>0</td>\n",
       "      <td>1</td>\n",
       "      <td>5</td>\n",
       "      <td>1</td>\n",
       "      <td>14 JUN 2018 18:00</td>\n",
       "      <td>Moscow / Luzhniki Stadium / RUS</td>\n",
       "    </tr>\n",
       "    <tr>\n",
       "      <th>1</th>\n",
       "      <td>4</td>\n",
       "      <td>1</td>\n",
       "      <td>3</td>\n",
       "      <td>0</td>\n",
       "      <td>2</td>\n",
       "      <td>15 JUN 2018 17:00</td>\n",
       "      <td>Ekaterinburg / Ekaterinburg Arena / RUS</td>\n",
       "    </tr>\n",
       "    <tr>\n",
       "      <th>2</th>\n",
       "      <td>6</td>\n",
       "      <td>3</td>\n",
       "      <td>5</td>\n",
       "      <td>3</td>\n",
       "      <td>3</td>\n",
       "      <td>15 JUN 2018 21:00</td>\n",
       "      <td>Sochi / Fisht Olympic Stadium / RUS</td>\n",
       "    </tr>\n",
       "    <tr>\n",
       "      <th>3</th>\n",
       "      <td>8</td>\n",
       "      <td>1</td>\n",
       "      <td>7</td>\n",
       "      <td>0</td>\n",
       "      <td>4</td>\n",
       "      <td>15 JUN 2018 18:00</td>\n",
       "      <td>Saint Petersburg /</td>\n",
       "    </tr>\n",
       "    <tr>\n",
       "      <th>4</th>\n",
       "      <td>10</td>\n",
       "      <td>1</td>\n",
       "      <td>9</td>\n",
       "      <td>2</td>\n",
       "      <td>5</td>\n",
       "      <td>16 JUN 2018 13:00</td>\n",
       "      <td>Kazan / Kazan Arena / RUS</td>\n",
       "    </tr>\n",
       "  </tbody>\n",
       "</table>\n",
       "</div>"
      ],
      "text/plain": [
       "   away_team_id  away_team_score  home_team_id  home_team_score  id  \\\n",
       "0             2                0             1                5   1   \n",
       "1             4                1             3                0   2   \n",
       "2             6                3             5                3   3   \n",
       "3             8                1             7                0   4   \n",
       "4            10                1             9                2   5   \n",
       "\n",
       "          match_date                           match_location  \n",
       "0  14 JUN 2018 18:00          Moscow / Luzhniki Stadium / RUS  \n",
       "1  15 JUN 2018 17:00  Ekaterinburg / Ekaterinburg Arena / RUS  \n",
       "2  15 JUN 2018 21:00      Sochi / Fisht Olympic Stadium / RUS  \n",
       "3  15 JUN 2018 18:00                       Saint Petersburg /  \n",
       "4  16 JUN 2018 13:00                Kazan / Kazan Arena / RUS  "
      ]
     },
     "execution_count": 4,
     "metadata": {},
     "output_type": "execute_result"
    }
   ],
   "source": [
    "wc_match.head()"
   ]
  },
  {
   "cell_type": "code",
   "execution_count": 5,
   "metadata": {},
   "outputs": [],
   "source": [
    "team = pd.DataFrame(db_conn.select_query('select * from team'))"
   ]
  },
  {
   "cell_type": "code",
   "execution_count": 6,
   "metadata": {},
   "outputs": [
    {
     "data": {
      "text/html": [
       "<div>\n",
       "<style scoped>\n",
       "    .dataframe tbody tr th:only-of-type {\n",
       "        vertical-align: middle;\n",
       "    }\n",
       "\n",
       "    .dataframe tbody tr th {\n",
       "        vertical-align: top;\n",
       "    }\n",
       "\n",
       "    .dataframe thead th {\n",
       "        text-align: right;\n",
       "    }\n",
       "</style>\n",
       "<table border=\"1\" class=\"dataframe\">\n",
       "  <thead>\n",
       "    <tr style=\"text-align: right;\">\n",
       "      <th></th>\n",
       "      <th>country</th>\n",
       "      <th>id</th>\n",
       "    </tr>\n",
       "  </thead>\n",
       "  <tbody>\n",
       "    <tr>\n",
       "      <th>0</th>\n",
       "      <td>Russia</td>\n",
       "      <td>1</td>\n",
       "    </tr>\n",
       "    <tr>\n",
       "      <th>1</th>\n",
       "      <td>Saudi Arabia</td>\n",
       "      <td>2</td>\n",
       "    </tr>\n",
       "    <tr>\n",
       "      <th>2</th>\n",
       "      <td>Egypt</td>\n",
       "      <td>3</td>\n",
       "    </tr>\n",
       "    <tr>\n",
       "      <th>3</th>\n",
       "      <td>Uruguay</td>\n",
       "      <td>4</td>\n",
       "    </tr>\n",
       "    <tr>\n",
       "      <th>4</th>\n",
       "      <td>Portugal</td>\n",
       "      <td>5</td>\n",
       "    </tr>\n",
       "  </tbody>\n",
       "</table>\n",
       "</div>"
      ],
      "text/plain": [
       "        country  id\n",
       "0        Russia   1\n",
       "1  Saudi Arabia   2\n",
       "2         Egypt   3\n",
       "3       Uruguay   4\n",
       "4      Portugal   5"
      ]
     },
     "execution_count": 6,
     "metadata": {},
     "output_type": "execute_result"
    }
   ],
   "source": [
    "team.head()"
   ]
  },
  {
   "cell_type": "code",
   "execution_count": 35,
   "metadata": {},
   "outputs": [],
   "source": [
    "players = pd.DataFrame(db_conn.select_query('select p.team_id, p.num, p.name, p.club, p.position, ps.* from player_stat ps left join player p on ps.player_id = p.id'))"
   ]
  },
  {
   "cell_type": "code",
   "execution_count": 36,
   "metadata": {},
   "outputs": [
    {
     "data": {
      "text/html": [
       "<div>\n",
       "<style scoped>\n",
       "    .dataframe tbody tr th:only-of-type {\n",
       "        vertical-align: middle;\n",
       "    }\n",
       "\n",
       "    .dataframe tbody tr th {\n",
       "        vertical-align: top;\n",
       "    }\n",
       "\n",
       "    .dataframe thead th {\n",
       "        text-align: right;\n",
       "    }\n",
       "</style>\n",
       "<table border=\"1\" class=\"dataframe\">\n",
       "  <thead>\n",
       "    <tr style=\"text-align: right;\">\n",
       "      <th></th>\n",
       "      <th>club</th>\n",
       "      <th>half</th>\n",
       "      <th>id</th>\n",
       "      <th>match_id</th>\n",
       "      <th>name</th>\n",
       "      <th>num</th>\n",
       "      <th>player_id</th>\n",
       "      <th>position</th>\n",
       "      <th>stat_type</th>\n",
       "      <th>stat_value</th>\n",
       "      <th>team_id</th>\n",
       "    </tr>\n",
       "  </thead>\n",
       "  <tbody>\n",
       "    <tr>\n",
       "      <th>0</th>\n",
       "      <td>Al Hilal (KSA)</td>\n",
       "      <td>total</td>\n",
       "      <td>1</td>\n",
       "      <td>1</td>\n",
       "      <td>ABDULLAH ALMUAIOUF</td>\n",
       "      <td>1</td>\n",
       "      <td>1</td>\n",
       "      <td>GK</td>\n",
       "      <td>POS</td>\n",
       "      <td>Goalkeeper</td>\n",
       "      <td>2</td>\n",
       "    </tr>\n",
       "    <tr>\n",
       "      <th>1</th>\n",
       "      <td>Al Hilal (KSA)</td>\n",
       "      <td>2</td>\n",
       "      <td>2</td>\n",
       "      <td>1</td>\n",
       "      <td>ABDULLAH ALMUAIOUF</td>\n",
       "      <td>1</td>\n",
       "      <td>1</td>\n",
       "      <td>GK</td>\n",
       "      <td>SAVE</td>\n",
       "      <td>2</td>\n",
       "      <td>2</td>\n",
       "    </tr>\n",
       "    <tr>\n",
       "      <th>2</th>\n",
       "      <td>Al Hilal (KSA)</td>\n",
       "      <td>1</td>\n",
       "      <td>3</td>\n",
       "      <td>1</td>\n",
       "      <td>ABDULLAH ALMUAIOUF</td>\n",
       "      <td>1</td>\n",
       "      <td>1</td>\n",
       "      <td>GK</td>\n",
       "      <td>DAT</td>\n",
       "      <td>1</td>\n",
       "      <td>2</td>\n",
       "    </tr>\n",
       "    <tr>\n",
       "      <th>3</th>\n",
       "      <td>Al Hilal (KSA)</td>\n",
       "      <td>1</td>\n",
       "      <td>4</td>\n",
       "      <td>1</td>\n",
       "      <td>ABDULLAH ALMUAIOUF</td>\n",
       "      <td>1</td>\n",
       "      <td>1</td>\n",
       "      <td>GK</td>\n",
       "      <td>CC</td>\n",
       "      <td>2</td>\n",
       "      <td>2</td>\n",
       "    </tr>\n",
       "    <tr>\n",
       "      <th>4</th>\n",
       "      <td>Al Hilal (KSA)</td>\n",
       "      <td>1</td>\n",
       "      <td>5</td>\n",
       "      <td>1</td>\n",
       "      <td>ABDULLAH ALMUAIOUF</td>\n",
       "      <td>1</td>\n",
       "      <td>1</td>\n",
       "      <td>GK</td>\n",
       "      <td>CA</td>\n",
       "      <td>2</td>\n",
       "      <td>2</td>\n",
       "    </tr>\n",
       "  </tbody>\n",
       "</table>\n",
       "</div>"
      ],
      "text/plain": [
       "             club   half  id  match_id                name  num  player_id  \\\n",
       "0  Al Hilal (KSA)  total   1         1  ABDULLAH ALMUAIOUF    1          1   \n",
       "1  Al Hilal (KSA)      2   2         1  ABDULLAH ALMUAIOUF    1          1   \n",
       "2  Al Hilal (KSA)      1   3         1  ABDULLAH ALMUAIOUF    1          1   \n",
       "3  Al Hilal (KSA)      1   4         1  ABDULLAH ALMUAIOUF    1          1   \n",
       "4  Al Hilal (KSA)      1   5         1  ABDULLAH ALMUAIOUF    1          1   \n",
       "\n",
       "  position stat_type  stat_value  team_id  \n",
       "0       GK       POS  Goalkeeper        2  \n",
       "1       GK      SAVE           2        2  \n",
       "2       GK       DAT           1        2  \n",
       "3       GK        CC           2        2  \n",
       "4       GK        CA           2        2  "
      ]
     },
     "execution_count": 36,
     "metadata": {},
     "output_type": "execute_result"
    }
   ],
   "source": [
    "players.head()"
   ]
  },
  {
   "cell_type": "code",
   "execution_count": 2,
   "metadata": {},
   "outputs": [],
   "source": [
    "import mongo_conn\n",
    "from pymongo import MongoClient"
   ]
  },
  {
   "cell_type": "code",
   "execution_count": 110,
   "metadata": {},
   "outputs": [],
   "source": [
    "documents = []\n",
    "for match in wc_match.iterrows():\n",
    "    document = {}\n",
    "    home_players = list((v.dropna().to_dict()) for k, v in players[(players.match_id == match[1]['id']) & (players.team_id == match[1]['home_team_id']) & (players.half == 'total') & \\\n",
    "        (~players.stat_type.isin(['POS', 'DZONE1', 'DZONE2', 'DZONE3', 'DZONE4', 'DZONE5', 'TZONE1', 'TZONE2', 'TZONE3', 'TZONE4', 'TZONE5']))]\\\n",
    ".pivot_table(values='stat_value', index=['num', 'name', 'club', 'position'], columns='stat_type', aggfunc='first')\\\n",
    ".reset_index().iterrows())\n",
    "    away_players = list((v.dropna().to_dict()) for k, v in players[(players.match_id == match[1]['id']) & (players.team_id == match[1]['away_team_id']) & (players.half == 'total') & \\\n",
    "        (~players.stat_type.isin(['POS', 'DZONE1', 'DZONE2', 'DZONE3', 'DZONE4', 'DZONE5', 'TZONE1', 'TZONE2', 'TZONE3', 'TZONE4', 'TZONE5']))]\\\n",
    ".pivot_table(values='stat_value', index=['num', 'name', 'club', 'position'], columns='stat_type', aggfunc='first')\\\n",
    ".reset_index().iterrows())\n",
    "    \n",
    "    document['date'] = match[1]['match_date']    \n",
    "    document['home_team'] = {\n",
    "        'country': team[team.id == match[1]['home_team_id']].country.values[0], \n",
    "        'score': match[1]['home_team_score'],\n",
    "        'players': home_players\n",
    "    }\n",
    "    document['away_team'] = {\n",
    "        'country': team[team.id == match[1]['away_team_id']].country.values[0], \n",
    "        'score': match[1]['away_team_score'],\n",
    "        'players': away_players\n",
    "    }\n",
    "    documents.append(document)"
   ]
  },
  {
   "cell_type": "code",
   "execution_count": 111,
   "metadata": {},
   "outputs": [
    {
     "data": {
      "text/plain": [
       "64"
      ]
     },
     "execution_count": 111,
     "metadata": {},
     "output_type": "execute_result"
    }
   ],
   "source": [
    "len(documents)"
   ]
  },
  {
   "cell_type": "code",
   "execution_count": 3,
   "metadata": {},
   "outputs": [],
   "source": [
    "client = mongo_conn.get_client()"
   ]
  },
  {
   "cell_type": "code",
   "execution_count": 104,
   "metadata": {},
   "outputs": [],
   "source": [
    "football_database = client.Football"
   ]
  },
  {
   "cell_type": "code",
   "execution_count": 105,
   "metadata": {},
   "outputs": [],
   "source": [
    "match_collection = football_database.wc_match"
   ]
  },
  {
   "cell_type": "code",
   "execution_count": 113,
   "metadata": {},
   "outputs": [
    {
     "name": "stderr",
     "output_type": "stream",
     "text": [
      "/Users/gracelee/.pyenv/versions/for_jupyter/lib/python3.5/site-packages/ipykernel_launcher.py:2: DeprecationWarning: insert is deprecated. Use insert_one or insert_many instead.\n",
      "  \n"
     ]
    }
   ],
   "source": [
    "for d in documents:\n",
    "    match_collection.insert(d)"
   ]
  },
  {
   "cell_type": "code",
   "execution_count": null,
   "metadata": {},
   "outputs": [],
   "source": []
  }
 ],
 "metadata": {
  "kernelspec": {
   "display_name": "Python 3",
   "language": "python",
   "name": "python3"
  },
  "language_info": {
   "codemirror_mode": {
    "name": "ipython",
    "version": 3
   },
   "file_extension": ".py",
   "mimetype": "text/x-python",
   "name": "python",
   "nbconvert_exporter": "python",
   "pygments_lexer": "ipython3",
   "version": "3.6.3"
  }
 },
 "nbformat": 4,
 "nbformat_minor": 2
}
