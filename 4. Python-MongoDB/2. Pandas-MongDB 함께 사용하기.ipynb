{
 "cells": [
  {
   "cell_type": "markdown",
   "metadata": {},
   "source": [
    "## pymongo를 활용해 MongoDB와  python을 연결"
   ]
  },
  {
   "cell_type": "markdown",
   "metadata": {},
   "source": [
    "### MongDB\n",
    "\n",
    "- NoSQL Database중 하나로 사전 같은 객체를 사용하여 문서(Document)기반으로 데이터를 저장한다"
   ]
  },
  {
   "cell_type": "markdown",
   "metadata": {},
   "source": [
    "공식 드라이버 pymongo 설치"
   ]
  },
  {
   "cell_type": "code",
   "execution_count": 1,
   "metadata": {},
   "outputs": [
    {
     "name": "stdout",
     "output_type": "stream",
     "text": [
      "Requirement already up-to-date: pymongo in /Users/grace/workspace/keras/venv/lib/python3.6/site-packages (3.7.2)\n",
      "\u001b[31mtextract 1.6.1 has requirement chardet==2.3.0, but you'll have chardet 3.0.4 which is incompatible.\u001b[0m\n",
      "\u001b[31mspyder-kernels 0.2.6 has requirement ipykernel>=4.8.2, but you'll have ipykernel 4.8.1 which is incompatible.\u001b[0m\n",
      "\u001b[31mspyder-kernels 0.2.6 has requirement jupyter-client>=5.2.3, but you'll have jupyter-client 5.2.2 which is incompatible.\u001b[0m\n",
      "\u001b[31mspyder-kernels 0.2.6 has requirement pyzmq>=17, but you'll have pyzmq 16.0.4 which is incompatible.\u001b[0m\n",
      "\u001b[33mYou are using pip version 10.0.1, however version 18.1 is available.\n",
      "You should consider upgrading via the 'pip install --upgrade pip' command.\u001b[0m\n"
     ]
    }
   ],
   "source": [
    "# !pip install --upgrade pymongo\n",
    "!pip install --upgrade pymongo"
   ]
  },
  {
   "cell_type": "code",
   "execution_count": 2,
   "metadata": {},
   "outputs": [],
   "source": [
    "from pymongo import MongoClient"
   ]
  },
  {
   "cell_type": "markdown",
   "metadata": {},
   "source": [
    "### MongoDB 접속"
   ]
  },
  {
   "cell_type": "code",
   "execution_count": 3,
   "metadata": {},
   "outputs": [],
   "source": [
    "# mongoDB에 접속할 client 생성\n",
    "# murl = \"mongodb://admin:<PASSWORD>@clusterXXX&retryWrites=true\"\n",
    "# Atlas -> connection -> connect your application -> standard connection string -> copy\n",
    "murl = ''\n",
    "\n",
    "client = MongoClient(murl, 27017)"
   ]
  },
  {
   "cell_type": "markdown",
   "metadata": {},
   "source": [
    "### Database와 Collection"
   ]
  },
  {
   "cell_type": "code",
   "execution_count": 4,
   "metadata": {},
   "outputs": [
    {
     "name": "stdout",
     "output_type": "stream",
     "text": [
      "Database(MongoClient(host=['cluster0-shard-00-00-8m9q3.mongodb.net:27017', 'cluster0-shard-00-01-8m9q3.mongodb.net:27017', 'cluster0-shard-00-02-8m9q3.mongodb.net:27017'], document_class=dict, tz_aware=False, connect=True, ssl=True, replicaset='Cluster0-shard-0', authsource='admin', retrywrites=True), 'Company')\n"
     ]
    }
   ],
   "source": [
    "# Database 찾아오기\n",
    "# MongoDB는 여러 개의 데이터베이스를 가질 수 있고, \n",
    "# 각각의 데이터베이스는 여러 개의 컬렉션을 가질 수 있다\n",
    "\n",
    "# DB 생성 (이미 존재하는 DB라면 Load)\n",
    "company_database = client.Company\n",
    "print(company_database)"
   ]
  },
  {
   "cell_type": "code",
   "execution_count": 5,
   "metadata": {},
   "outputs": [
    {
     "name": "stdout",
     "output_type": "stream",
     "text": [
      "Database(MongoClient(host=['cluster0-shard-00-00-8m9q3.mongodb.net:27017', 'cluster0-shard-00-01-8m9q3.mongodb.net:27017', 'cluster0-shard-00-02-8m9q3.mongodb.net:27017'], document_class=dict, tz_aware=False, connect=True, ssl=True, replicaset='Cluster0-shard-0', authsource='admin', retrywrites=True), 'Company') Collection(Database(MongoClient(host=['cluster0-shard-00-00-8m9q3.mongodb.net:27017', 'cluster0-shard-00-01-8m9q3.mongodb.net:27017', 'cluster0-shard-00-02-8m9q3.mongodb.net:27017'], document_class=dict, tz_aware=False, connect=True, ssl=True, replicaset='Cluster0-shard-0', authsource='admin', retrywrites=True), 'Company'), 'Employee')\n"
     ]
    }
   ],
   "source": [
    "# DB와 Collection을 Load하는 다른 방법\n",
    "\n",
    "company_database = client.get_database('Company')\n",
    "employee = company_database.get_collection('Employee')\n",
    "\n",
    "print(company_database, employee)"
   ]
  },
  {
   "cell_type": "code",
   "execution_count": 6,
   "metadata": {},
   "outputs": [
    {
     "name": "stderr",
     "output_type": "stream",
     "text": [
      "/Users/grace/workspace/keras/venv/lib/python3.6/site-packages/ipykernel_launcher.py:3: DeprecationWarning: collection_names is deprecated. Use list_collection_names instead.\n",
      "  This is separate from the ipykernel package so we can avoid doing imports until\n"
     ]
    },
    {
     "data": {
      "text/plain": [
       "['Employee']"
      ]
     },
     "execution_count": 6,
     "metadata": {},
     "output_type": "execute_result"
    }
   ],
   "source": [
    "# DB 내의 Collection List 보기\n",
    "\n",
    "collection_list = company_database.collection_names()\n",
    "collection_list"
   ]
  },
  {
   "cell_type": "markdown",
   "metadata": {},
   "source": [
    "### Database CRUD"
   ]
  },
  {
   "cell_type": "code",
   "execution_count": 7,
   "metadata": {},
   "outputs": [
    {
     "name": "stderr",
     "output_type": "stream",
     "text": [
      "/Users/grace/workspace/keras/venv/lib/python3.6/site-packages/ipykernel_launcher.py:2: DeprecationWarning: remove is deprecated. Use delete_one or delete_many instead.\n",
      "  \n"
     ]
    },
    {
     "data": {
      "text/plain": [
       "{'$clusterTime': {'clusterTime': Timestamp(1541626433, 5),\n",
       "  'signature': {'hash': b'\\xee+!\\xd7\\xe2\\xf5En\\xe91c\\x87\\x9c_Hl\\xf3\\xd3\\xbdD',\n",
       "   'keyId': 6605358658400288769}},\n",
       " 'electionId': ObjectId('7fffffff0000000000000007'),\n",
       " 'n': 5,\n",
       " 'ok': 1.0,\n",
       " 'opTime': {'t': 7, 'ts': Timestamp(1541626433, 5)},\n",
       " 'operationTime': Timestamp(1541626433, 5)}"
      ]
     },
     "execution_count": 7,
     "metadata": {},
     "output_type": "execute_result"
    }
   ],
   "source": [
    "# 실습 전 정리하기\n",
    "employee.remove()"
   ]
  },
  {
   "cell_type": "markdown",
   "metadata": {},
   "source": [
    "#### Insert"
   ]
  },
  {
   "cell_type": "code",
   "execution_count": 8,
   "metadata": {},
   "outputs": [
    {
     "name": "stderr",
     "output_type": "stream",
     "text": [
      "/Users/grace/workspace/keras/venv/lib/python3.6/site-packages/ipykernel_launcher.py:2: DeprecationWarning: insert is deprecated. Use insert_one or insert_many instead.\n",
      "  \n"
     ]
    },
    {
     "data": {
      "text/plain": [
       "ObjectId('5be35a41827e3c460a886420')"
      ]
     },
     "execution_count": 8,
     "metadata": {},
     "output_type": "execute_result"
    }
   ],
   "source": [
    "# 컬렉션에 저장하기\n",
    "employee.insert({'name':'grace'})"
   ]
  },
  {
   "cell_type": "markdown",
   "metadata": {},
   "source": [
    "#### Find(= Select)"
   ]
  },
  {
   "cell_type": "code",
   "execution_count": 9,
   "metadata": {},
   "outputs": [
    {
     "name": "stdout",
     "output_type": "stream",
     "text": [
      "[{'_id': ObjectId('5be35a41827e3c460a886420'), 'name': 'grace'}]\n",
      "[{'_id': ObjectId('5be35a41827e3c460a886420'), 'name': 'grace'}]\n",
      "[]\n"
     ]
    }
   ],
   "source": [
    "# 컬렉션에서 읽어오기\n",
    "\n",
    "# 전체 조회\n",
    "cursor = employee.find()\n",
    "print(list(cursor))\n",
    "\n",
    "# 조건 조회 (name이 grace 인 데이터만 조회)\n",
    "cursor = employee.find({'name':'grace'})\n",
    "print(list(cursor))\n",
    "\n",
    "# cursor는 1회 사용 후 휘발됨\n",
    "print(list(cursor))"
   ]
  },
  {
   "cell_type": "markdown",
   "metadata": {},
   "source": [
    "#### Remove(= Delete)"
   ]
  },
  {
   "cell_type": "code",
   "execution_count": 10,
   "metadata": {},
   "outputs": [
    {
     "name": "stderr",
     "output_type": "stream",
     "text": [
      "/Users/grace/workspace/keras/venv/lib/python3.6/site-packages/ipykernel_launcher.py:2: DeprecationWarning: remove is deprecated. Use delete_one or delete_many instead.\n",
      "  \n"
     ]
    },
    {
     "data": {
      "text/plain": [
       "{'$clusterTime': {'clusterTime': Timestamp(1541626433, 8),\n",
       "  'signature': {'hash': b'\\xee+!\\xd7\\xe2\\xf5En\\xe91c\\x87\\x9c_Hl\\xf3\\xd3\\xbdD',\n",
       "   'keyId': 6605358658400288769}},\n",
       " 'electionId': ObjectId('7fffffff0000000000000007'),\n",
       " 'n': 1,\n",
       " 'ok': 1.0,\n",
       " 'opTime': {'t': 7, 'ts': Timestamp(1541626433, 8)},\n",
       " 'operationTime': Timestamp(1541626433, 8)}"
      ]
     },
     "execution_count": 10,
     "metadata": {},
     "output_type": "execute_result"
    }
   ],
   "source": [
    "# 컬렉션에서 삭제하기\n",
    "employee.remove({'name':'grace'})"
   ]
  },
  {
   "cell_type": "code",
   "execution_count": 11,
   "metadata": {},
   "outputs": [
    {
     "data": {
      "text/plain": [
       "[]"
      ]
     },
     "execution_count": 11,
     "metadata": {},
     "output_type": "execute_result"
    }
   ],
   "source": [
    "list(employee.find())"
   ]
  },
  {
   "cell_type": "code",
   "execution_count": 12,
   "metadata": {},
   "outputs": [],
   "source": [
    "people = ['grace', 'kyle', 'john', 'tom', 'ellen']\n",
    "city = ['seoul', 'newyork', 'london', 'paris']\n",
    "department = ['IT', 'Finance', 'HR']"
   ]
  },
  {
   "cell_type": "code",
   "execution_count": 13,
   "metadata": {},
   "outputs": [
    {
     "name": "stderr",
     "output_type": "stream",
     "text": [
      "/Users/grace/workspace/keras/venv/lib/python3.6/site-packages/ipykernel_launcher.py:4: DeprecationWarning: insert is deprecated. Use insert_one or insert_many instead.\n",
      "  after removing the cwd from sys.path.\n"
     ]
    },
    {
     "data": {
      "text/plain": [
       "ObjectId('5be35a41827e3c460a886421')"
      ]
     },
     "execution_count": 13,
     "metadata": {},
     "output_type": "execute_result"
    },
    {
     "data": {
      "text/plain": [
       "ObjectId('5be35a41827e3c460a886422')"
      ]
     },
     "execution_count": 13,
     "metadata": {},
     "output_type": "execute_result"
    },
    {
     "data": {
      "text/plain": [
       "ObjectId('5be35a41827e3c460a886423')"
      ]
     },
     "execution_count": 13,
     "metadata": {},
     "output_type": "execute_result"
    },
    {
     "data": {
      "text/plain": [
       "ObjectId('5be35a41827e3c460a886424')"
      ]
     },
     "execution_count": 13,
     "metadata": {},
     "output_type": "execute_result"
    },
    {
     "data": {
      "text/plain": [
       "ObjectId('5be35a41827e3c460a886425')"
      ]
     },
     "execution_count": 13,
     "metadata": {},
     "output_type": "execute_result"
    }
   ],
   "source": [
    "from random import *\n",
    "\n",
    "for person in people:\n",
    "    employee.insert({'name': person, \\\n",
    "                     'age': randint(20, 80), \\\n",
    "                     'address': city[randint(0, 3)], \\\n",
    "                     'department':department[randint(0, 2)]})"
   ]
  },
  {
   "cell_type": "code",
   "execution_count": 14,
   "metadata": {},
   "outputs": [
    {
     "data": {
      "text/plain": [
       "[{'_id': ObjectId('5be35a41827e3c460a886421'),\n",
       "  'address': 'paris',\n",
       "  'age': 72,\n",
       "  'department': 'IT',\n",
       "  'name': 'grace'},\n",
       " {'_id': ObjectId('5be35a41827e3c460a886422'),\n",
       "  'address': 'london',\n",
       "  'age': 36,\n",
       "  'department': 'Finance',\n",
       "  'name': 'kyle'},\n",
       " {'_id': ObjectId('5be35a41827e3c460a886423'),\n",
       "  'address': 'seoul',\n",
       "  'age': 37,\n",
       "  'department': 'HR',\n",
       "  'name': 'john'},\n",
       " {'_id': ObjectId('5be35a41827e3c460a886424'),\n",
       "  'address': 'london',\n",
       "  'age': 28,\n",
       "  'department': 'IT',\n",
       "  'name': 'tom'},\n",
       " {'_id': ObjectId('5be35a41827e3c460a886425'),\n",
       "  'address': 'newyork',\n",
       "  'age': 54,\n",
       "  'department': 'Finance',\n",
       "  'name': 'ellen'}]"
      ]
     },
     "execution_count": 14,
     "metadata": {},
     "output_type": "execute_result"
    }
   ],
   "source": [
    "list(employee.find())"
   ]
  },
  {
   "cell_type": "markdown",
   "metadata": {},
   "source": [
    "#### Fileter"
   ]
  },
  {
   "cell_type": "code",
   "execution_count": 15,
   "metadata": {},
   "outputs": [
    {
     "data": {
      "text/plain": [
       "[{'_id': ObjectId('5be35a41827e3c460a886421'),\n",
       "  'address': 'paris',\n",
       "  'age': 72,\n",
       "  'department': 'IT',\n",
       "  'name': 'grace'},\n",
       " {'_id': ObjectId('5be35a41827e3c460a886425'),\n",
       "  'address': 'newyork',\n",
       "  'age': 54,\n",
       "  'department': 'Finance',\n",
       "  'name': 'ellen'}]"
      ]
     },
     "execution_count": 15,
     "metadata": {},
     "output_type": "execute_result"
    }
   ],
   "source": [
    "# find 명령어에 조건을 입력하여 조회 가능\n",
    "# $lt(less than): 미만\n",
    "# $lte(less then equals): 이하\n",
    "# $gt(grater than): 초과\n",
    "# $gte(grater than equals): 이상\n",
    "# $ne(not equeals): 같지않음\n",
    "\n",
    "list(employee.find({'age': {'$gte': 40}}))"
   ]
  },
  {
   "cell_type": "code",
   "execution_count": 16,
   "metadata": {},
   "outputs": [
    {
     "data": {
      "text/plain": [
       "[{'_id': ObjectId('5be35a41827e3c460a886422'),\n",
       "  'address': 'london',\n",
       "  'age': 36,\n",
       "  'department': 'Finance',\n",
       "  'name': 'kyle'},\n",
       " {'_id': ObjectId('5be35a41827e3c460a886423'),\n",
       "  'address': 'seoul',\n",
       "  'age': 37,\n",
       "  'department': 'HR',\n",
       "  'name': 'john'},\n",
       " {'_id': ObjectId('5be35a41827e3c460a886424'),\n",
       "  'address': 'london',\n",
       "  'age': 28,\n",
       "  'department': 'IT',\n",
       "  'name': 'tom'}]"
      ]
     },
     "execution_count": 16,
     "metadata": {},
     "output_type": "execute_result"
    }
   ],
   "source": [
    "list(employee.find({'age': {'$lte': 40}}))"
   ]
  },
  {
   "cell_type": "code",
   "execution_count": 17,
   "metadata": {},
   "outputs": [
    {
     "data": {
      "text/plain": [
       "[{'_id': ObjectId('5be35a41827e3c460a886425'),\n",
       "  'address': 'newyork',\n",
       "  'age': 54,\n",
       "  'department': 'Finance',\n",
       "  'name': 'ellen'}]"
      ]
     },
     "execution_count": 17,
     "metadata": {},
     "output_type": "execute_result"
    }
   ],
   "source": [
    "# 여러 조건 동시에 주기\n",
    "# $and, $or\n",
    "\n",
    "list(employee.find({'$and': [{'age': {'$gt': 30}}, {'address': 'newyork'}]}))"
   ]
  },
  {
   "cell_type": "code",
   "execution_count": 18,
   "metadata": {},
   "outputs": [
    {
     "data": {
      "text/plain": [
       "[{'_id': ObjectId('5be35a41827e3c460a886423'),\n",
       "  'address': 'seoul',\n",
       "  'age': 37,\n",
       "  'department': 'HR',\n",
       "  'name': 'john'}]"
      ]
     },
     "execution_count": 18,
     "metadata": {},
     "output_type": "execute_result"
    }
   ],
   "source": [
    "list(employee.find({'$or': [{'age': {'$lt': 25}}, {'address': 'seoul'}]}))"
   ]
  },
  {
   "cell_type": "code",
   "execution_count": 19,
   "metadata": {},
   "outputs": [
    {
     "data": {
      "text/plain": [
       "[{'_id': ObjectId('5be35a41827e3c460a886422'),\n",
       "  'address': 'london',\n",
       "  'age': 36,\n",
       "  'department': 'Finance',\n",
       "  'name': 'kyle'},\n",
       " {'_id': ObjectId('5be35a41827e3c460a886423'),\n",
       "  'address': 'seoul',\n",
       "  'age': 37,\n",
       "  'department': 'HR',\n",
       "  'name': 'john'},\n",
       " {'_id': ObjectId('5be35a41827e3c460a886424'),\n",
       "  'address': 'london',\n",
       "  'age': 28,\n",
       "  'department': 'IT',\n",
       "  'name': 'tom'}]"
      ]
     },
     "execution_count": 19,
     "metadata": {},
     "output_type": "execute_result"
    }
   ],
   "source": [
    "# 집합 조건\n",
    "\n",
    "list(employee.find({'address': {'$in': ['seoul', 'london']}}))"
   ]
  },
  {
   "cell_type": "code",
   "execution_count": 20,
   "metadata": {},
   "outputs": [
    {
     "data": {
      "text/plain": [
       "[{'_id': ObjectId('5be35a41827e3c460a886421'),\n",
       "  'address': 'paris',\n",
       "  'age': 72,\n",
       "  'department': 'IT',\n",
       "  'name': 'grace'},\n",
       " {'_id': ObjectId('5be35a41827e3c460a886424'),\n",
       "  'address': 'london',\n",
       "  'age': 28,\n",
       "  'department': 'IT',\n",
       "  'name': 'tom'},\n",
       " {'_id': ObjectId('5be35a41827e3c460a886425'),\n",
       "  'address': 'newyork',\n",
       "  'age': 54,\n",
       "  'department': 'Finance',\n",
       "  'name': 'ellen'}]"
      ]
     },
     "execution_count": 20,
     "metadata": {},
     "output_type": "execute_result"
    }
   ],
   "source": [
    "list(employee.find({'name': {'$nin': ['john', 'kyle']}}))"
   ]
  },
  {
   "cell_type": "code",
   "execution_count": 21,
   "metadata": {},
   "outputs": [
    {
     "data": {
      "text/plain": [
       "[{'_id': ObjectId('5be35a41827e3c460a886421'),\n",
       "  'address': 'paris',\n",
       "  'age': 72,\n",
       "  'department': 'IT',\n",
       "  'name': 'grace'},\n",
       " {'_id': ObjectId('5be35a41827e3c460a886422'),\n",
       "  'address': 'london',\n",
       "  'age': 36,\n",
       "  'department': 'Finance',\n",
       "  'name': 'kyle'},\n",
       " {'_id': ObjectId('5be35a41827e3c460a886423'),\n",
       "  'address': 'seoul',\n",
       "  'age': 37,\n",
       "  'department': 'HR',\n",
       "  'name': 'john'},\n",
       " {'_id': ObjectId('5be35a41827e3c460a886424'),\n",
       "  'address': 'london',\n",
       "  'age': 28,\n",
       "  'department': 'IT',\n",
       "  'name': 'tom'},\n",
       " {'_id': ObjectId('5be35a41827e3c460a886425'),\n",
       "  'address': 'newyork',\n",
       "  'age': 54,\n",
       "  'department': 'Finance',\n",
       "  'name': 'ellen'}]"
      ]
     },
     "execution_count": 21,
     "metadata": {},
     "output_type": "execute_result"
    }
   ],
   "source": [
    "# Key값의 존재 여부 조건\n",
    "\n",
    "list(employee.find({'age': {'$exists': True}}))"
   ]
  },
  {
   "cell_type": "markdown",
   "metadata": {},
   "source": [
    "#### Update"
   ]
  },
  {
   "cell_type": "code",
   "execution_count": 22,
   "metadata": {},
   "outputs": [
    {
     "name": "stderr",
     "output_type": "stream",
     "text": [
      "/Users/grace/workspace/keras/venv/lib/python3.6/site-packages/ipykernel_launcher.py:9: DeprecationWarning: update is deprecated. Use replace_one, update_one or update_many instead.\n",
      "  if __name__ == '__main__':\n"
     ]
    },
    {
     "data": {
      "text/plain": [
       "{'$clusterTime': {'clusterTime': Timestamp(1541626434, 2),\n",
       "  'signature': {'hash': b'i\\x9e\\xfd\\x81\\x8f\\xd3l\\xab\\xf8\\x00\\x98\\xfab\\x88j\\x85Y\\xf7:\\xee',\n",
       "   'keyId': 6605358658400288769}},\n",
       " 'electionId': ObjectId('7fffffff0000000000000007'),\n",
       " 'n': 1,\n",
       " 'nModified': 1,\n",
       " 'ok': 1.0,\n",
       " 'opTime': {'t': 7, 'ts': Timestamp(1541626434, 2)},\n",
       " 'operationTime': Timestamp(1541626434, 2),\n",
       " 'updatedExisting': True}"
      ]
     },
     "execution_count": 22,
     "metadata": {},
     "output_type": "execute_result"
    },
    {
     "data": {
      "text/plain": [
       "[{'_id': ObjectId('5be35a41827e3c460a886421'),\n",
       "  'address': 'london',\n",
       "  'age': 5,\n",
       "  'name': 'grace'}]"
      ]
     },
     "execution_count": 22,
     "metadata": {},
     "output_type": "execute_result"
    }
   ],
   "source": [
    "# update 명령어\n",
    "# 2개의 argument 중 첫번째는 업데이트를 진행할 데이터의 조건\n",
    "# 두번째는 업데이트하게 될 내용을 입력\n",
    "# 단, 모든 데이터를 입력해야 함\n",
    "# test_collection.update({'name': 'grace'}, {'age': 30}) 을 실행하면 {'age': 30}만 존재하는 Collection으로 변경됨\n",
    "# 해당 조건 데이터가 없을 경우 insert하기를 원하면 upsert = True\n",
    "# 동일한 조건의 여러 Collection을 모두 update하기를 원하면 multi = True\n",
    "\n",
    "employee.update({'name': 'grace'}, {'name': 'grace', 'age': 5, 'address': 'london'})\n",
    "list(employee.find({'name': 'grace'}))"
   ]
  },
  {
   "cell_type": "code",
   "execution_count": 23,
   "metadata": {},
   "outputs": [
    {
     "name": "stderr",
     "output_type": "stream",
     "text": [
      "/Users/grace/workspace/keras/venv/lib/python3.6/site-packages/ipykernel_launcher.py:3: DeprecationWarning: update is deprecated. Use replace_one, update_one or update_many instead.\n",
      "  This is separate from the ipykernel package so we can avoid doing imports until\n"
     ]
    },
    {
     "data": {
      "text/plain": [
       "{'$clusterTime': {'clusterTime': Timestamp(1541626434, 3),\n",
       "  'signature': {'hash': b'i\\x9e\\xfd\\x81\\x8f\\xd3l\\xab\\xf8\\x00\\x98\\xfab\\x88j\\x85Y\\xf7:\\xee',\n",
       "   'keyId': 6605358658400288769}},\n",
       " 'electionId': ObjectId('7fffffff0000000000000007'),\n",
       " 'n': 1,\n",
       " 'nModified': 1,\n",
       " 'ok': 1.0,\n",
       " 'opTime': {'t': 7, 'ts': Timestamp(1541626434, 3)},\n",
       " 'operationTime': Timestamp(1541626434, 3),\n",
       " 'updatedExisting': True}"
      ]
     },
     "execution_count": 23,
     "metadata": {},
     "output_type": "execute_result"
    },
    {
     "data": {
      "text/plain": [
       "[{'_id': ObjectId('5be35a41827e3c460a886422'),\n",
       "  'address': 'london',\n",
       "  'age': 100,\n",
       "  'department': 'Finance',\n",
       "  'name': 'kyle'}]"
      ]
     },
     "execution_count": 23,
     "metadata": {},
     "output_type": "execute_result"
    }
   ],
   "source": [
    "# 특정 field만 update하고 싶다면 $set 연산자를 이용\n",
    "\n",
    "employee.update({'name': 'kyle'}, {'$set': {'age': 100}})\n",
    "list(employee.find({'name': 'kyle'}))"
   ]
  },
  {
   "cell_type": "code",
   "execution_count": 24,
   "metadata": {},
   "outputs": [
    {
     "data": {
      "text/plain": [
       "<pymongo.results.UpdateResult at 0x10c15a208>"
      ]
     },
     "execution_count": 24,
     "metadata": {},
     "output_type": "execute_result"
    },
    {
     "data": {
      "text/plain": [
       "[{'_id': ObjectId('5be35a41827e3c460a886422'),\n",
       "  'address': 'london',\n",
       "  'age': 100,\n",
       "  'community': 'board games',\n",
       "  'department': 'Finance',\n",
       "  'name': 'kyle'}]"
      ]
     },
     "execution_count": 24,
     "metadata": {},
     "output_type": "execute_result"
    }
   ],
   "source": [
    "# updateOne\n",
    "\n",
    "employee.update_one({'name':'kyle'}, {'$set': {'community':'board games'}})\n",
    "list(employee.find({'name':'kyle'}))"
   ]
  },
  {
   "cell_type": "code",
   "execution_count": 25,
   "metadata": {},
   "outputs": [
    {
     "data": {
      "text/plain": [
       "<pymongo.results.UpdateResult at 0x10c1c9548>"
      ]
     },
     "execution_count": 25,
     "metadata": {},
     "output_type": "execute_result"
    },
    {
     "data": {
      "text/plain": [
       "[{'_id': ObjectId('5be35a41827e3c460a886422'),\n",
       "  'address': 'london',\n",
       "  'age': 100,\n",
       "  'community': 'finance simulation',\n",
       "  'department': 'Finance',\n",
       "  'name': 'kyle'},\n",
       " {'_id': ObjectId('5be35a41827e3c460a886425'),\n",
       "  'address': 'newyork',\n",
       "  'age': 54,\n",
       "  'community': 'finance simulation',\n",
       "  'department': 'Finance',\n",
       "  'name': 'ellen'}]"
      ]
     },
     "execution_count": 25,
     "metadata": {},
     "output_type": "execute_result"
    }
   ],
   "source": [
    "# updateMany\n",
    "\n",
    "employee.update_many({'department':'Finance'}, {'$set': {'community':'finance simulation'}})\n",
    "list(employee.find({'department':'Finance'}))"
   ]
  },
  {
   "cell_type": "markdown",
   "metadata": {},
   "source": [
    "#### Sort"
   ]
  },
  {
   "cell_type": "code",
   "execution_count": 26,
   "metadata": {},
   "outputs": [
    {
     "data": {
      "text/plain": [
       "[{'_id': ObjectId('5be35a41827e3c460a886422'),\n",
       "  'address': 'london',\n",
       "  'age': 100,\n",
       "  'community': 'finance simulation',\n",
       "  'department': 'Finance',\n",
       "  'name': 'kyle'},\n",
       " {'_id': ObjectId('5be35a41827e3c460a886425'),\n",
       "  'address': 'newyork',\n",
       "  'age': 54,\n",
       "  'community': 'finance simulation',\n",
       "  'department': 'Finance',\n",
       "  'name': 'ellen'},\n",
       " {'_id': ObjectId('5be35a41827e3c460a886423'),\n",
       "  'address': 'seoul',\n",
       "  'age': 37,\n",
       "  'department': 'HR',\n",
       "  'name': 'john'},\n",
       " {'_id': ObjectId('5be35a41827e3c460a886424'),\n",
       "  'address': 'london',\n",
       "  'age': 28,\n",
       "  'department': 'IT',\n",
       "  'name': 'tom'},\n",
       " {'_id': ObjectId('5be35a41827e3c460a886421'),\n",
       "  'address': 'london',\n",
       "  'age': 5,\n",
       "  'name': 'grace'}]"
      ]
     },
     "execution_count": 26,
     "metadata": {},
     "output_type": "execute_result"
    }
   ],
   "source": [
    "list(employee.find().sort('age', -1))"
   ]
  },
  {
   "cell_type": "markdown",
   "metadata": {},
   "source": [
    "#### Distinct"
   ]
  },
  {
   "cell_type": "code",
   "execution_count": 27,
   "metadata": {},
   "outputs": [
    {
     "data": {
      "text/plain": [
       "['london', 'seoul', 'newyork']"
      ]
     },
     "execution_count": 27,
     "metadata": {},
     "output_type": "execute_result"
    }
   ],
   "source": [
    "list(employee.find().distinct('address'))"
   ]
  },
  {
   "cell_type": "markdown",
   "metadata": {},
   "source": [
    "#### Count"
   ]
  },
  {
   "cell_type": "code",
   "execution_count": 28,
   "metadata": {},
   "outputs": [
    {
     "data": {
      "text/plain": [
       "5"
      ]
     },
     "execution_count": 28,
     "metadata": {},
     "output_type": "execute_result"
    }
   ],
   "source": [
    "employee.count_documents({})"
   ]
  },
  {
   "cell_type": "code",
   "execution_count": 29,
   "metadata": {},
   "outputs": [
    {
     "data": {
      "text/plain": [
       "3"
      ]
     },
     "execution_count": 29,
     "metadata": {},
     "output_type": "execute_result"
    }
   ],
   "source": [
    "employee.count_documents({'address':'london'})"
   ]
  }
 ],
 "metadata": {
  "kernelspec": {
   "display_name": "Python 3",
   "language": "python",
   "name": "python3"
  },
  "language_info": {
   "codemirror_mode": {
    "name": "ipython",
    "version": 3
   },
   "file_extension": ".py",
   "mimetype": "text/x-python",
   "name": "python",
   "nbconvert_exporter": "python",
   "pygments_lexer": "ipython3",
   "version": "3.6.4"
  }
 },
 "nbformat": 4,
 "nbformat_minor": 2
}
