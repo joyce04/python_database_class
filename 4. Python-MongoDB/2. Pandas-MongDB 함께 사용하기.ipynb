{
 "cells": [
  {
   "cell_type": "markdown",
   "metadata": {},
   "source": [
    "## pymongo를 활용해 MongoDB와  python을 연결"
   ]
  },
  {
   "cell_type": "markdown",
   "metadata": {},
   "source": [
    "### MongDB\n",
    "\n",
    "- NoSQL Database중 하나로 사전 같은 객체를 사용하여 문서(Document)기반으로 데이터를 저장한다"
   ]
  },
  {
   "cell_type": "markdown",
   "metadata": {},
   "source": [
    "공식 드라이버 pymongo 설치"
   ]
  },
  {
   "cell_type": "code",
   "execution_count": 1,
   "metadata": {},
   "outputs": [],
   "source": [
    "# !pip install --upgrade pymongo\n",
    "!pip install --upgrade pymongo"
   ]
  },
  {
   "cell_type": "code",
   "execution_count": 18,
   "metadata": {},
   "outputs": [],
   "source": [
    "from pymongo import MongoClient"
   ]
  },
  {
   "cell_type": "markdown",
   "metadata": {},
   "source": [
    "### MongoDB 접속"
   ]
  },
  {
   "cell_type": "code",
   "execution_count": 2,
   "metadata": {},
   "outputs": [],
   "source": [
    "# mongoDB에 접속할 client 생성\n",
    "murl = ''\n",
    "\n",
    "client = MongoClient(murl, 27017)"
   ]
  },
  {
   "cell_type": "markdown",
   "metadata": {},
   "source": [
    "### Database와 Collection"
   ]
  },
  {
   "cell_type": "code",
   "execution_count": 3,
   "metadata": {},
   "outputs": [
    {
     "name": "stdout",
     "output_type": "stream",
     "text": [
      "Database(MongoClient(host=['cluster0-shard-00-02-8m9q3.mongodb.net:27017', 'cluster0-shard-00-01-8m9q3.mongodb.net:27017', 'cluster0-shard-00-00-8m9q3.mongodb.net:27017'], document_class=dict, tz_aware=False, connect=True, ssl=True, replicaset='Cluster0-shard-0', authsource='admin', retrywrites=True), 'Test')\n",
      "Collection(Database(MongoClient(host=['cluster0-shard-00-02-8m9q3.mongodb.net:27017', 'cluster0-shard-00-01-8m9q3.mongodb.net:27017', 'cluster0-shard-00-00-8m9q3.mongodb.net:27017'], document_class=dict, tz_aware=False, connect=True, ssl=True, replicaset='Cluster0-shard-0', authsource='admin', retrywrites=True), 'Test'), 'test_collection')\n"
     ]
    }
   ],
   "source": [
    "# Database 찾아오기\n",
    "# MongoDB는 여러 개의 데이터베이스를 가질 수 있고, \n",
    "# 각각의 데이터베이스는 여러 개의 컬렉션을 가질 수 있다\n",
    "\n",
    "# DB 생성 (이미 존재하는 DB라면 Load)\n",
    "test_database = client.Test\n",
    "print(test_database)\n",
    "\n",
    "# collection 생성 (이미 존재하는 Collection이라면 Load)\n",
    "test_collection = test_database.test_collection\n",
    "print(test_collection)"
   ]
  },
  {
   "cell_type": "code",
   "execution_count": 4,
   "metadata": {},
   "outputs": [
    {
     "name": "stdout",
     "output_type": "stream",
     "text": [
      "Database(MongoClient(host=['cluster0-shard-00-02-8m9q3.mongodb.net:27017', 'cluster0-shard-00-01-8m9q3.mongodb.net:27017', 'cluster0-shard-00-00-8m9q3.mongodb.net:27017'], document_class=dict, tz_aware=False, connect=True, ssl=True, replicaset='Cluster0-shard-0', authsource='admin', retrywrites=True), 'Test') Collection(Database(MongoClient(host=['cluster0-shard-00-02-8m9q3.mongodb.net:27017', 'cluster0-shard-00-01-8m9q3.mongodb.net:27017', 'cluster0-shard-00-00-8m9q3.mongodb.net:27017'], document_class=dict, tz_aware=False, connect=True, ssl=True, replicaset='Cluster0-shard-0', authsource='admin', retrywrites=True), 'Test'), 'test_collection')\n"
     ]
    }
   ],
   "source": [
    "# DB와 Collection을 Load하는 다른 방법\n",
    "\n",
    "test_database = client.get_database('Test')\n",
    "test_collection = test_database.get_collection('test_collection')\n",
    "\n",
    "print(test_database, test_collection)"
   ]
  },
  {
   "cell_type": "code",
   "execution_count": 5,
   "metadata": {},
   "outputs": [
    {
     "name": "stderr",
     "output_type": "stream",
     "text": [
      "c:\\users\\kyle\\appdata\\local\\programs\\python\\python36\\lib\\site-packages\\ipykernel_launcher.py:3: DeprecationWarning: collection_names is deprecated. Use list_collection_names instead.\n",
      "  This is separate from the ipykernel package so we can avoid doing imports until\n"
     ]
    },
    {
     "data": {
      "text/plain": [
       "['test_collection']"
      ]
     },
     "execution_count": 5,
     "metadata": {},
     "output_type": "execute_result"
    }
   ],
   "source": [
    "# DB 내의 Collection List 보기\n",
    "\n",
    "collection_list = test_database.collection_names()\n",
    "collection_list"
   ]
  },
  {
   "cell_type": "markdown",
   "metadata": {},
   "source": [
    "### Database CRUD"
   ]
  },
  {
   "cell_type": "code",
   "execution_count": null,
   "metadata": {},
   "outputs": [],
   "source": [
    "# 실습 전 정리하기\n",
    "test_collection.remove()"
   ]
  },
  {
   "cell_type": "markdown",
   "metadata": {},
   "source": [
    "#### Insert"
   ]
  },
  {
   "cell_type": "code",
   "execution_count": 9,
   "metadata": {},
   "outputs": [
    {
     "name": "stderr",
     "output_type": "stream",
     "text": [
      "c:\\users\\kyle\\appdata\\local\\programs\\python\\python36\\lib\\site-packages\\ipykernel_launcher.py:2: DeprecationWarning: insert is deprecated. Use insert_one or insert_many instead.\n",
      "  \n"
     ]
    },
    {
     "data": {
      "text/plain": [
       "ObjectId('5bdd758b9b7e8a4908544ea6')"
      ]
     },
     "execution_count": 9,
     "metadata": {},
     "output_type": "execute_result"
    }
   ],
   "source": [
    "# 컬렉션에 저장하기\n",
    "test_collection.insert({'name':'grace'})"
   ]
  },
  {
   "cell_type": "markdown",
   "metadata": {},
   "source": [
    "#### Find(= Select)"
   ]
  },
  {
   "cell_type": "code",
   "execution_count": 10,
   "metadata": {},
   "outputs": [
    {
     "name": "stdout",
     "output_type": "stream",
     "text": [
      "[{'_id': ObjectId('5bdd758b9b7e8a4908544ea6'), 'name': 'grace'}]\n",
      "[{'_id': ObjectId('5bdd758b9b7e8a4908544ea6'), 'name': 'grace'}]\n",
      "[]\n"
     ]
    }
   ],
   "source": [
    "# 컬렉션에서 읽어오기\n",
    "\n",
    "# 전체 조회\n",
    "cursor = test_collection.find()\n",
    "print(list(cursor))\n",
    "\n",
    "# 조건 조회 (name이 grace 인 데이터만 조회)\n",
    "cursor = test_collection.find({'name':'grace'})\n",
    "print(list(cursor))\n",
    "\n",
    "# cursor는 1회 사용 후 휘발됨\n",
    "print(list(cursor))"
   ]
  },
  {
   "cell_type": "markdown",
   "metadata": {},
   "source": [
    "#### Remove(= Delete)"
   ]
  },
  {
   "cell_type": "code",
   "execution_count": 11,
   "metadata": {},
   "outputs": [
    {
     "name": "stderr",
     "output_type": "stream",
     "text": [
      "c:\\users\\kyle\\appdata\\local\\programs\\python\\python36\\lib\\site-packages\\ipykernel_launcher.py:2: DeprecationWarning: remove is deprecated. Use delete_one or delete_many instead.\n",
      "  \n"
     ]
    },
    {
     "data": {
      "text/plain": [
       "{'n': 1,\n",
       " 'opTime': {'ts': Timestamp(1541240237, 1), 't': 7},\n",
       " 'electionId': ObjectId('7fffffff0000000000000007'),\n",
       " 'ok': 1.0,\n",
       " 'operationTime': Timestamp(1541240237, 1),\n",
       " '$clusterTime': {'clusterTime': Timestamp(1541240237, 1),\n",
       "  'signature': {'hash': b'\\x9c\\xda\\x16\\xe5\\xb2\\x0e\\x8e2\\x816\\x01\\x8fX\\xf2\\x05w\\xf7\\x11\\xca\\x8e',\n",
       "   'keyId': 6605358658400288769}}}"
      ]
     },
     "execution_count": 11,
     "metadata": {},
     "output_type": "execute_result"
    }
   ],
   "source": [
    "# 컬렉션에서 삭제하기\n",
    "test_collection.remove({'name':'grace'})"
   ]
  },
  {
   "cell_type": "code",
   "execution_count": 12,
   "metadata": {},
   "outputs": [
    {
     "data": {
      "text/plain": [
       "[]"
      ]
     },
     "execution_count": 12,
     "metadata": {},
     "output_type": "execute_result"
    }
   ],
   "source": [
    "list(test_collection.find())"
   ]
  },
  {
   "cell_type": "code",
   "execution_count": 13,
   "metadata": {},
   "outputs": [],
   "source": [
    "people = ['grace', 'kyle', 'john', 'tom', 'ellen']\n",
    "city = ['seoul', 'newyork', 'london', 'paris']"
   ]
  },
  {
   "cell_type": "code",
   "execution_count": 14,
   "metadata": {},
   "outputs": [
    {
     "name": "stderr",
     "output_type": "stream",
     "text": [
      "c:\\users\\kyle\\appdata\\local\\programs\\python\\python36\\lib\\site-packages\\ipykernel_launcher.py:4: DeprecationWarning: insert is deprecated. Use insert_one or insert_many instead.\n",
      "  after removing the cwd from sys.path.\n"
     ]
    }
   ],
   "source": [
    "from random import *\n",
    "\n",
    "for person in people:\n",
    "    test_collection.insert({'name': person, 'age': randint(10, 80), 'address': city[randint(10, 80)%4]})"
   ]
  },
  {
   "cell_type": "code",
   "execution_count": 15,
   "metadata": {},
   "outputs": [
    {
     "data": {
      "text/plain": [
       "[{'_id': ObjectId('5bdd75b69b7e8a4908544ea7'),\n",
       "  'name': 'grace',\n",
       "  'age': 43,\n",
       "  'address': 'seoul'},\n",
       " {'_id': ObjectId('5bdd75b69b7e8a4908544ea8'),\n",
       "  'name': 'kyle',\n",
       "  'age': 62,\n",
       "  'address': 'seoul'},\n",
       " {'_id': ObjectId('5bdd75b69b7e8a4908544ea9'),\n",
       "  'name': 'john',\n",
       "  'age': 10,\n",
       "  'address': 'newyork'},\n",
       " {'_id': ObjectId('5bdd75b79b7e8a4908544eaa'),\n",
       "  'name': 'tom',\n",
       "  'age': 12,\n",
       "  'address': 'seoul'},\n",
       " {'_id': ObjectId('5bdd75b79b7e8a4908544eab'),\n",
       "  'name': 'ellen',\n",
       "  'age': 21,\n",
       "  'address': 'london'}]"
      ]
     },
     "execution_count": 15,
     "metadata": {},
     "output_type": "execute_result"
    }
   ],
   "source": [
    "list(test_collection.find())"
   ]
  },
  {
   "cell_type": "markdown",
   "metadata": {},
   "source": [
    "#### Fileter"
   ]
  },
  {
   "cell_type": "code",
   "execution_count": 16,
   "metadata": {},
   "outputs": [
    {
     "data": {
      "text/plain": [
       "[{'_id': ObjectId('5bdd75b69b7e8a4908544ea7'),\n",
       "  'name': 'grace',\n",
       "  'age': 43,\n",
       "  'address': 'seoul'},\n",
       " {'_id': ObjectId('5bdd75b69b7e8a4908544ea8'),\n",
       "  'name': 'kyle',\n",
       "  'age': 62,\n",
       "  'address': 'seoul'}]"
      ]
     },
     "execution_count": 16,
     "metadata": {},
     "output_type": "execute_result"
    }
   ],
   "source": [
    "# find 명령어에 조건을 입력하여 조회 가능\n",
    "# $lt(less than): 미만\n",
    "# $lte(less then equals): 이하\n",
    "# $gt(grater than): 초과\n",
    "# $gte(grater than equals): 이상\n",
    "# $ne(not equeals): 같지않음\n",
    "\n",
    "list(test_collection.find({'age': {'$gte': 40}}))"
   ]
  },
  {
   "cell_type": "code",
   "execution_count": 17,
   "metadata": {},
   "outputs": [
    {
     "data": {
      "text/plain": [
       "[{'_id': ObjectId('5bdd75b69b7e8a4908544ea9'),\n",
       "  'name': 'john',\n",
       "  'age': 10,\n",
       "  'address': 'newyork'},\n",
       " {'_id': ObjectId('5bdd75b79b7e8a4908544eaa'),\n",
       "  'name': 'tom',\n",
       "  'age': 12,\n",
       "  'address': 'seoul'},\n",
       " {'_id': ObjectId('5bdd75b79b7e8a4908544eab'),\n",
       "  'name': 'ellen',\n",
       "  'age': 21,\n",
       "  'address': 'london'}]"
      ]
     },
     "execution_count": 17,
     "metadata": {},
     "output_type": "execute_result"
    }
   ],
   "source": [
    "list(test_collection.find({'age': {'$lte': 40}}))"
   ]
  },
  {
   "cell_type": "code",
   "execution_count": 18,
   "metadata": {},
   "outputs": [
    {
     "data": {
      "text/plain": [
       "[]"
      ]
     },
     "execution_count": 18,
     "metadata": {},
     "output_type": "execute_result"
    }
   ],
   "source": [
    "# 여러 조건 동시에 주기\n",
    "# $and, $or\n",
    "\n",
    "list(test_collection.find({'$and': [{'age': {'$gt': 30}}, {'address': 'newyork'}]}))"
   ]
  },
  {
   "cell_type": "code",
   "execution_count": 19,
   "metadata": {},
   "outputs": [
    {
     "data": {
      "text/plain": [
       "[{'_id': ObjectId('5bdd75b69b7e8a4908544ea7'),\n",
       "  'name': 'grace',\n",
       "  'age': 43,\n",
       "  'address': 'seoul'},\n",
       " {'_id': ObjectId('5bdd75b69b7e8a4908544ea8'),\n",
       "  'name': 'kyle',\n",
       "  'age': 62,\n",
       "  'address': 'seoul'},\n",
       " {'_id': ObjectId('5bdd75b69b7e8a4908544ea9'),\n",
       "  'name': 'john',\n",
       "  'age': 10,\n",
       "  'address': 'newyork'},\n",
       " {'_id': ObjectId('5bdd75b79b7e8a4908544eaa'),\n",
       "  'name': 'tom',\n",
       "  'age': 12,\n",
       "  'address': 'seoul'},\n",
       " {'_id': ObjectId('5bdd75b79b7e8a4908544eab'),\n",
       "  'name': 'ellen',\n",
       "  'age': 21,\n",
       "  'address': 'london'}]"
      ]
     },
     "execution_count": 19,
     "metadata": {},
     "output_type": "execute_result"
    }
   ],
   "source": [
    "list(test_collection.find({'$or': [{'age': {'$lt': 25}}, {'address': 'seoul'}]}))"
   ]
  },
  {
   "cell_type": "code",
   "execution_count": 20,
   "metadata": {},
   "outputs": [
    {
     "data": {
      "text/plain": [
       "[{'_id': ObjectId('5bdd75b69b7e8a4908544ea7'),\n",
       "  'name': 'grace',\n",
       "  'age': 43,\n",
       "  'address': 'seoul'},\n",
       " {'_id': ObjectId('5bdd75b69b7e8a4908544ea8'),\n",
       "  'name': 'kyle',\n",
       "  'age': 62,\n",
       "  'address': 'seoul'},\n",
       " {'_id': ObjectId('5bdd75b79b7e8a4908544eaa'),\n",
       "  'name': 'tom',\n",
       "  'age': 12,\n",
       "  'address': 'seoul'},\n",
       " {'_id': ObjectId('5bdd75b79b7e8a4908544eab'),\n",
       "  'name': 'ellen',\n",
       "  'age': 21,\n",
       "  'address': 'london'}]"
      ]
     },
     "execution_count": 20,
     "metadata": {},
     "output_type": "execute_result"
    }
   ],
   "source": [
    "# 집합 조건\n",
    "\n",
    "list(test_collection.find({'address': {'$in': ['seoul', 'london']}}))"
   ]
  },
  {
   "cell_type": "code",
   "execution_count": 21,
   "metadata": {},
   "outputs": [
    {
     "data": {
      "text/plain": [
       "[{'_id': ObjectId('5bdd75b69b7e8a4908544ea7'),\n",
       "  'name': 'grace',\n",
       "  'age': 43,\n",
       "  'address': 'seoul'},\n",
       " {'_id': ObjectId('5bdd75b79b7e8a4908544eaa'),\n",
       "  'name': 'tom',\n",
       "  'age': 12,\n",
       "  'address': 'seoul'},\n",
       " {'_id': ObjectId('5bdd75b79b7e8a4908544eab'),\n",
       "  'name': 'ellen',\n",
       "  'age': 21,\n",
       "  'address': 'london'}]"
      ]
     },
     "execution_count": 21,
     "metadata": {},
     "output_type": "execute_result"
    }
   ],
   "source": [
    "list(test_collection.find({'name': {'$nin': ['john', 'kyle']}}))"
   ]
  },
  {
   "cell_type": "code",
   "execution_count": 22,
   "metadata": {},
   "outputs": [
    {
     "data": {
      "text/plain": [
       "[{'_id': ObjectId('5bdd75b69b7e8a4908544ea7'),\n",
       "  'name': 'grace',\n",
       "  'age': 43,\n",
       "  'address': 'seoul'},\n",
       " {'_id': ObjectId('5bdd75b69b7e8a4908544ea8'),\n",
       "  'name': 'kyle',\n",
       "  'age': 62,\n",
       "  'address': 'seoul'},\n",
       " {'_id': ObjectId('5bdd75b69b7e8a4908544ea9'),\n",
       "  'name': 'john',\n",
       "  'age': 10,\n",
       "  'address': 'newyork'},\n",
       " {'_id': ObjectId('5bdd75b79b7e8a4908544eaa'),\n",
       "  'name': 'tom',\n",
       "  'age': 12,\n",
       "  'address': 'seoul'},\n",
       " {'_id': ObjectId('5bdd75b79b7e8a4908544eab'),\n",
       "  'name': 'ellen',\n",
       "  'age': 21,\n",
       "  'address': 'london'}]"
      ]
     },
     "execution_count": 22,
     "metadata": {},
     "output_type": "execute_result"
    }
   ],
   "source": [
    "# Key값의 존재 여부 조건\n",
    "\n",
    "list(test_collection.find({'age': {'$exists': True}}))"
   ]
  },
  {
   "cell_type": "markdown",
   "metadata": {},
   "source": [
    "#### Update"
   ]
  },
  {
   "cell_type": "code",
   "execution_count": 23,
   "metadata": {},
   "outputs": [
    {
     "name": "stderr",
     "output_type": "stream",
     "text": [
      "c:\\users\\kyle\\appdata\\local\\programs\\python\\python36\\lib\\site-packages\\ipykernel_launcher.py:9: DeprecationWarning: update is deprecated. Use replace_one, update_one or update_many instead.\n",
      "  if __name__ == '__main__':\n"
     ]
    },
    {
     "data": {
      "text/plain": [
       "[{'_id': ObjectId('5bdd75b69b7e8a4908544ea7'),\n",
       "  'name': 'grace',\n",
       "  'age': 5,\n",
       "  'address': 'london'}]"
      ]
     },
     "execution_count": 23,
     "metadata": {},
     "output_type": "execute_result"
    }
   ],
   "source": [
    "# update 명령어\n",
    "# 2개의 argument 중 첫번째는 업데이트를 진행할 데이터의 조건\n",
    "# 두번째는 업데이트하게 될 내용을 입력\n",
    "# 단, 모든 데이터를 입력해야 함\n",
    "# test_collection.update({'name': 'grace'}, {'age': 30}) 을 실행하면 {'age': 30}만 존재하는 Collection으로 변경됨\n",
    "# 해당 조건 데이터가 없을 경우 insert하기를 원하면 upsert = True\n",
    "# 동일한 조건의 여러 Collection을 모두 update하기를 원하면 multi = True\n",
    "\n",
    "test_collection.update({'name': 'grace'}, {'name': 'grace', 'age': 5, 'address': 'london'})\n",
    "list(test_collection.find({'name': 'grace'}))"
   ]
  },
  {
   "cell_type": "code",
   "execution_count": 24,
   "metadata": {},
   "outputs": [
    {
     "name": "stderr",
     "output_type": "stream",
     "text": [
      "c:\\users\\kyle\\appdata\\local\\programs\\python\\python36\\lib\\site-packages\\ipykernel_launcher.py:3: DeprecationWarning: update is deprecated. Use replace_one, update_one or update_many instead.\n",
      "  This is separate from the ipykernel package so we can avoid doing imports until\n"
     ]
    },
    {
     "data": {
      "text/plain": [
       "[{'_id': ObjectId('5bdd75b69b7e8a4908544ea8'),\n",
       "  'name': 'kyle',\n",
       "  'age': 100,\n",
       "  'address': 'seoul'}]"
      ]
     },
     "execution_count": 24,
     "metadata": {},
     "output_type": "execute_result"
    }
   ],
   "source": [
    "# 특정 field만 update하고 싶다면 $set 연산자를 이용\n",
    "\n",
    "test_collection.update({'name': 'kyle'}, {'$set': {'age': 100}})\n",
    "list(test_collection.find({'name': 'kyle'}))"
   ]
  },
  {
   "cell_type": "markdown",
   "metadata": {},
   "source": [
    "#### Sort"
   ]
  },
  {
   "cell_type": "code",
   "execution_count": 25,
   "metadata": {},
   "outputs": [
    {
     "data": {
      "text/plain": [
       "[{'_id': ObjectId('5bdd75b69b7e8a4908544ea8'),\n",
       "  'name': 'kyle',\n",
       "  'age': 100,\n",
       "  'address': 'seoul'},\n",
       " {'_id': ObjectId('5bdd75b79b7e8a4908544eab'),\n",
       "  'name': 'ellen',\n",
       "  'age': 21,\n",
       "  'address': 'london'},\n",
       " {'_id': ObjectId('5bdd75b79b7e8a4908544eaa'),\n",
       "  'name': 'tom',\n",
       "  'age': 12,\n",
       "  'address': 'seoul'},\n",
       " {'_id': ObjectId('5bdd75b69b7e8a4908544ea9'),\n",
       "  'name': 'john',\n",
       "  'age': 10,\n",
       "  'address': 'newyork'},\n",
       " {'_id': ObjectId('5bdd75b69b7e8a4908544ea7'),\n",
       "  'name': 'grace',\n",
       "  'age': 5,\n",
       "  'address': 'london'}]"
      ]
     },
     "execution_count": 25,
     "metadata": {},
     "output_type": "execute_result"
    }
   ],
   "source": [
    "list(test_collection.find().sort('age', -1))"
   ]
  },
  {
   "cell_type": "markdown",
   "metadata": {},
   "source": [
    "#### Distinct"
   ]
  },
  {
   "cell_type": "code",
   "execution_count": 26,
   "metadata": {},
   "outputs": [
    {
     "data": {
      "text/plain": [
       "['london', 'seoul', 'newyork']"
      ]
     },
     "execution_count": 26,
     "metadata": {},
     "output_type": "execute_result"
    }
   ],
   "source": [
    "list(test_collection.find().distinct('address'))"
   ]
  },
  {
   "cell_type": "markdown",
   "metadata": {},
   "source": [
    "#### Count"
   ]
  },
  {
   "cell_type": "code",
   "execution_count": 3,
   "metadata": {},
   "outputs": [],
   "source": [
    "football_database = client.Football"
   ]
  },
  {
   "cell_type": "code",
   "execution_count": 4,
   "metadata": {},
   "outputs": [],
   "source": [
    "match_collection = football_database.wc_match"
   ]
  },
  {
   "cell_type": "code",
   "execution_count": 7,
   "metadata": {},
   "outputs": [
    {
     "data": {
      "text/plain": [
       "64"
      ]
     },
     "execution_count": 7,
     "metadata": {},
     "output_type": "execute_result"
    }
   ],
   "source": [
    "match_collection.count_documents({})"
   ]
  },
  {
   "cell_type": "markdown",
   "metadata": {},
   "source": [
    "#### Aggregate"
   ]
  },
  {
   "cell_type": "code",
   "execution_count": 17,
   "metadata": {},
   "outputs": [
    {
     "data": {
      "text/plain": [
       "[{'_id': 'Belgium', 'home_goal': 13},\n",
       " {'_id': 'France', 'home_goal': 12},\n",
       " {'_id': 'Russia', 'home_goal': 10},\n",
       " {'_id': 'England', 'home_goal': 6},\n",
       " {'_id': 'Uruguay', 'home_goal': 6},\n",
       " {'_id': 'Brazil', 'home_goal': 6},\n",
       " {'_id': 'Croatia', 'home_goal': 5},\n",
       " {'_id': 'Portugal', 'home_goal': 4},\n",
       " {'_id': 'Spain', 'home_goal': 3},\n",
       " {'_id': 'Korea Republic', 'home_goal': 3},\n",
       " {'_id': 'Nigeria', 'home_goal': 3},\n",
       " {'_id': 'Switzerland', 'home_goal': 2},\n",
       " {'_id': 'Sweden', 'home_goal': 2},\n",
       " {'_id': 'Germany', 'home_goal': 2},\n",
       " {'_id': 'Saudi Arabia', 'home_goal': 2},\n",
       " {'_id': 'Japan', 'home_goal': 2},\n",
       " {'_id': 'Colombia', 'home_goal': 2},\n",
       " {'_id': 'Poland', 'home_goal': 1},\n",
       " {'_id': 'Tunisia', 'home_goal': 1},\n",
       " {'_id': 'Serbia', 'home_goal': 1},\n",
       " {'_id': 'Argentina', 'home_goal': 1},\n",
       " {'_id': 'Panama', 'home_goal': 1},\n",
       " {'_id': 'Iceland', 'home_goal': 1},\n",
       " {'_id': 'Denmark', 'home_goal': 1},\n",
       " {'_id': 'IR Iran', 'home_goal': 1},\n",
       " {'_id': 'Senegal', 'home_goal': 0},\n",
       " {'_id': 'Australia', 'home_goal': 0},\n",
       " {'_id': 'Mexico', 'home_goal': 0},\n",
       " {'_id': 'Peru', 'home_goal': 0},\n",
       " {'_id': 'Morocco', 'home_goal': 0},\n",
       " {'_id': 'Egypt', 'home_goal': 0},\n",
       " {'_id': 'Costa Rica', 'home_goal': 0}]"
      ]
     },
     "execution_count": 17,
     "metadata": {},
     "output_type": "execute_result"
    }
   ],
   "source": [
    "list(match_collection.aggregate([\n",
    "    {'$group': {\n",
    "        '_id': '$home_team.country',\n",
    "        'home_goal': {'$sum' : '$home_team.score'}\n",
    "    }},\n",
    "    {'$sort': {'home_goal': -1}}\n",
    "]))"
   ]
  },
  {
   "cell_type": "code",
   "execution_count": null,
   "metadata": {},
   "outputs": [],
   "source": []
  }
 ],
 "metadata": {
  "kernelspec": {
   "display_name": "Python 3",
   "language": "python",
   "name": "python3"
  },
  "language_info": {
   "codemirror_mode": {
    "name": "ipython",
    "version": 3
   },
   "file_extension": ".py",
   "mimetype": "text/x-python",
   "name": "python",
   "nbconvert_exporter": "python",
   "pygments_lexer": "ipython3",
   "version": "3.6.3"
  }
 },
 "nbformat": 4,
 "nbformat_minor": 2
}
