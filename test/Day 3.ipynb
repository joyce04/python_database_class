{
 "cells": [
  {
   "cell_type": "code",
   "execution_count": 5,
   "metadata": {
    "collapsed": true
   },
   "outputs": [],
   "source": [
    "import numpy as np\n",
    "import pandas as pd\n",
    "import matplotlib.pyplot as plt\n",
    "from matplotlib.image import imread\n",
    "\n",
    "from sklearn.model_selection import train_test_split\n",
    "\n",
    "%matplotlib inline"
   ]
  },
  {
   "cell_type": "code",
   "execution_count": 2,
   "metadata": {
    "collapsed": true
   },
   "outputs": [],
   "source": [
    "from deepy.dataset import mnist"
   ]
  },
  {
   "cell_type": "code",
   "execution_count": 73,
   "metadata": {
    "collapsed": true
   },
   "outputs": [],
   "source": [
    "(X_train, y_train), (X_test, y_test) = mnist.load_mnist(\n",
    "    flatten=False, normalize=False)"
   ]
  },
  {
   "cell_type": "code",
   "execution_count": 74,
   "metadata": {},
   "outputs": [
    {
     "data": {
      "text/plain": [
       "(60000, 1, 28, 28)"
      ]
     },
     "execution_count": 74,
     "metadata": {},
     "output_type": "execute_result"
    }
   ],
   "source": [
    "X_train.shape"
   ]
  },
  {
   "cell_type": "code",
   "execution_count": 75,
   "metadata": {
    "collapsed": true
   },
   "outputs": [],
   "source": [
    "x = X_train[0]"
   ]
  },
  {
   "cell_type": "code",
   "execution_count": 76,
   "metadata": {},
   "outputs": [
    {
     "data": {
      "text/plain": [
       "<matplotlib.image.AxesImage at 0xdcc2860>"
      ]
     },
     "execution_count": 76,
     "metadata": {},
     "output_type": "execute_result"
    },
    {
     "data": {
      "image/png": "[encoded data removed]",
      "text/plain": [
       "<matplotlib.figure.Figure at 0xd8df630>"
      ]
     },
     "metadata": {},
     "output_type": "display_data"
    }
   ],
   "source": [
    "plt.imshow(x.reshape(28, 28), 'Greys')"
   ]
  },
  {
   "cell_type": "code",
   "execution_count": 77,
   "metadata": {},
   "outputs": [
    {
     "data": {
      "text/plain": [
       "5"
      ]
     },
     "execution_count": 77,
     "metadata": {},
     "output_type": "execute_result"
    }
   ],
   "source": [
    "y_train[0]"
   ]
  },
  {
   "cell_type": "code",
   "execution_count": 78,
   "metadata": {
    "collapsed": true
   },
   "outputs": [],
   "source": [
    "from matplotlib.image import imsave"
   ]
  },
  {
   "cell_type": "code",
   "execution_count": 79,
   "metadata": {},
   "outputs": [],
   "source": [
    "imsave('mnist sample.png', x.reshape(28, 28))"
   ]
  },
  {
   "cell_type": "code",
   "execution_count": 80,
   "metadata": {
    "collapsed": true
   },
   "outputs": [],
   "source": [
    "def sigmoid(x):\n",
    "    return 1 / (1 + np.exp(-x))"
   ]
  },
  {
   "cell_type": "code",
   "execution_count": 81,
   "metadata": {
    "collapsed": true
   },
   "outputs": [],
   "source": [
    "class Layer:\n",
    "    def __init__(self, 입력수, 출력수, 활성화):\n",
    "        self.W = np.random.randn(입력수, 출력수)\n",
    "        self.b = np.random.randn(출력수)\n",
    "        self.activation = 활성화\n",
    "        \n",
    "    def forward(self, X):\n",
    "        z = np.dot(X, self.W) + self.b\n",
    "        return self.activation(z)"
   ]
  },
  {
   "cell_type": "code",
   "execution_count": 82,
   "metadata": {
    "collapsed": true
   },
   "outputs": [],
   "source": [
    "layer1 = Layer(입력수=784, 출력수=50, 활성화=sigmoid)"
   ]
  },
  {
   "cell_type": "code",
   "execution_count": 83,
   "metadata": {},
   "outputs": [
    {
     "data": {
      "text/plain": [
       "(784, 50)"
      ]
     },
     "execution_count": 83,
     "metadata": {},
     "output_type": "execute_result"
    }
   ],
   "source": [
    "layer1.W.shape"
   ]
  },
  {
   "cell_type": "code",
   "execution_count": 84,
   "metadata": {},
   "outputs": [
    {
     "data": {
      "text/plain": [
       "(50,)"
      ]
     },
     "execution_count": 84,
     "metadata": {},
     "output_type": "execute_result"
    }
   ],
   "source": [
    "layer1.b.shape"
   ]
  },
  {
   "cell_type": "code",
   "execution_count": 85,
   "metadata": {
    "collapsed": true
   },
   "outputs": [],
   "source": [
    "class FeedForwardNet:\n",
    "    def __init__(self):\n",
    "        self.layers = []\n",
    "        \n",
    "    def add(self, layer):\n",
    "        self.layers.append(layer)\n",
    "        \n",
    "    def predict(self, X):\n",
    "        \"\"\"신경망 순전파\"\"\"\n",
    "        layer_output = X\n",
    "        for layer in self.layers:\n",
    "            layer_output = layer.forward(layer_output)            \n",
    "        y = layer_output\n",
    "        return y"
   ]
  },
  {
   "cell_type": "code",
   "execution_count": 86,
   "metadata": {
    "collapsed": true
   },
   "outputs": [],
   "source": [
    "model = FeedForwardNet()"
   ]
  },
  {
   "cell_type": "code",
   "execution_count": 87,
   "metadata": {
    "collapsed": true
   },
   "outputs": [],
   "source": [
    "model.add(Layer(784, 50, sigmoid))\n",
    "model.add(Layer(50, 100, sigmoid))\n",
    "model.add(Layer(100, 10, lambda x: x))"
   ]
  },
  {
   "cell_type": "markdown",
   "metadata": {},
   "source": [
    "기 훈련된 가중치 적재"
   ]
  },
  {
   "cell_type": "code",
   "execution_count": 88,
   "metadata": {
    "collapsed": true
   },
   "outputs": [],
   "source": [
    "import pickle"
   ]
  },
  {
   "cell_type": "code",
   "execution_count": 89,
   "metadata": {
    "collapsed": true
   },
   "outputs": [],
   "source": [
    "with open('data/mnist_weight.pkl', 'rb') as 파일:\n",
    "    params = pickle.load(파일)"
   ]
  },
  {
   "cell_type": "code",
   "execution_count": 90,
   "metadata": {},
   "outputs": [
    {
     "data": {
      "text/plain": [
       "dict_keys(['b2', 'W1', 'b1', 'W2', 'W3', 'b3'])"
      ]
     },
     "execution_count": 90,
     "metadata": {},
     "output_type": "execute_result"
    }
   ],
   "source": [
    "params.keys()"
   ]
  },
  {
   "cell_type": "code",
   "execution_count": 91,
   "metadata": {
    "collapsed": true
   },
   "outputs": [],
   "source": [
    "model.layers[0].W = params['W1']\n",
    "model.layers[0].b = params['b1']\n",
    "model.layers[1].W = params['W2']\n",
    "model.layers[1].b = params['b2']\n",
    "model.layers[2].W = params['W3']\n",
    "model.layers[2].b = params['b3']"
   ]
  },
  {
   "cell_type": "code",
   "execution_count": 92,
   "metadata": {},
   "outputs": [],
   "source": [
    "X_test = X_test.reshape(-1, 1*28*28)"
   ]
  },
  {
   "cell_type": "markdown",
   "metadata": {},
   "source": [
    "데이터 전처리 (크기 조정; scaling)"
   ]
  },
  {
   "cell_type": "code",
   "execution_count": 93,
   "metadata": {},
   "outputs": [],
   "source": [
    "X_test = X_test.astype('float32') / 255.0"
   ]
  },
  {
   "cell_type": "code",
   "execution_count": 94,
   "metadata": {},
   "outputs": [
    {
     "data": {
      "text/plain": [
       "(1.0, 0.0)"
      ]
     },
     "execution_count": 94,
     "metadata": {},
     "output_type": "execute_result"
    }
   ],
   "source": [
    "X_test.max(), X_test.min()"
   ]
  },
  {
   "cell_type": "code",
   "execution_count": 95,
   "metadata": {},
   "outputs": [],
   "source": [
    "Y_pred = model.predict(X_test)"
   ]
  },
  {
   "cell_type": "code",
   "execution_count": 96,
   "metadata": {},
   "outputs": [
    {
     "data": {
      "text/plain": [
       "(10000, 10)"
      ]
     },
     "execution_count": 96,
     "metadata": {},
     "output_type": "execute_result"
    }
   ],
   "source": [
    "Y_pred.shape"
   ]
  },
  {
   "cell_type": "code",
   "execution_count": 97,
   "metadata": {
    "collapsed": true
   },
   "outputs": [],
   "source": [
    "y_pred = np.argmax(Y_pred, axis=1)"
   ]
  },
  {
   "cell_type": "code",
   "execution_count": 98,
   "metadata": {},
   "outputs": [
    {
     "data": {
      "text/plain": [
       "array([7, 2, 1, 0, 4], dtype=int64)"
      ]
     },
     "execution_count": 98,
     "metadata": {},
     "output_type": "execute_result"
    }
   ],
   "source": [
    "y_pred[:5]"
   ]
  },
  {
   "cell_type": "code",
   "execution_count": 99,
   "metadata": {},
   "outputs": [
    {
     "data": {
      "text/plain": [
       "array([7, 2, 1, 0, 4], dtype=uint8)"
      ]
     },
     "execution_count": 99,
     "metadata": {},
     "output_type": "execute_result"
    }
   ],
   "source": [
    "y_test[:5]"
   ]
  },
  {
   "cell_type": "code",
   "execution_count": 100,
   "metadata": {},
   "outputs": [
    {
     "data": {
      "text/plain": [
       "0.93520000000000003"
      ]
     },
     "execution_count": 100,
     "metadata": {},
     "output_type": "execute_result"
    }
   ],
   "source": [
    "np.mean(y_pred == y_test)"
   ]
  },
  {
   "cell_type": "markdown",
   "metadata": {},
   "source": [
    "# 손실함수"
   ]
  },
  {
   "cell_type": "code",
   "execution_count": 101,
   "metadata": {
    "collapsed": true
   },
   "outputs": [],
   "source": [
    "def mean_squared_error(y_pred, y):\n",
    "    return 0.5 * np.sum((y_pred - y)**2)"
   ]
  },
  {
   "cell_type": "code",
   "execution_count": 102,
   "metadata": {
    "collapsed": true
   },
   "outputs": [],
   "source": [
    "y = np.array([0, 1, 0])"
   ]
  },
  {
   "cell_type": "code",
   "execution_count": 104,
   "metadata": {},
   "outputs": [
    {
     "data": {
      "text/plain": [
       "1"
      ]
     },
     "execution_count": 104,
     "metadata": {},
     "output_type": "execute_result"
    }
   ],
   "source": [
    "np.argmax(y)"
   ]
  },
  {
   "cell_type": "code",
   "execution_count": 103,
   "metadata": {
    "collapsed": true
   },
   "outputs": [],
   "source": [
    "y_pred_1 = np.array([0.1, 0.7, 0.2])\n",
    "y_pred_2 = np.array([0.7, 0.2, 0.1])\n",
    "y_pred_3 = np.array([0.2, 0.6, 0.2])"
   ]
  },
  {
   "cell_type": "code",
   "execution_count": 105,
   "metadata": {},
   "outputs": [
    {
     "data": {
      "text/plain": [
       "0.070000000000000021"
      ]
     },
     "execution_count": 105,
     "metadata": {},
     "output_type": "execute_result"
    }
   ],
   "source": [
    "mean_squared_error(y_pred_1, y)"
   ]
  },
  {
   "cell_type": "code",
   "execution_count": 106,
   "metadata": {},
   "outputs": [
    {
     "data": {
      "text/plain": [
       "0.57000000000000006"
      ]
     },
     "execution_count": 106,
     "metadata": {},
     "output_type": "execute_result"
    }
   ],
   "source": [
    "mean_squared_error(y_pred_2, y)"
   ]
  },
  {
   "cell_type": "code",
   "execution_count": 107,
   "metadata": {},
   "outputs": [
    {
     "data": {
      "text/plain": [
       "0.12000000000000002"
      ]
     },
     "execution_count": 107,
     "metadata": {},
     "output_type": "execute_result"
    }
   ],
   "source": [
    "mean_squared_error(y_pred_3, y)"
   ]
  },
  {
   "cell_type": "code",
   "execution_count": 108,
   "metadata": {
    "collapsed": true
   },
   "outputs": [],
   "source": [
    "def cross_entropy_error(y_pred, y):\n",
    "    delta = 1e-7\n",
    "    return -np.sum(y * np.log(y_pred + delta))"
   ]
  },
  {
   "cell_type": "code",
   "execution_count": 113,
   "metadata": {},
   "outputs": [
    {
     "data": {
      "text/plain": [
       "array([0, 1, 0])"
      ]
     },
     "execution_count": 113,
     "metadata": {},
     "output_type": "execute_result"
    }
   ],
   "source": [
    "y"
   ]
  },
  {
   "cell_type": "code",
   "execution_count": 116,
   "metadata": {},
   "outputs": [
    {
     "data": {
      "text/plain": [
       "array([-0.        , -0.35667494, -0.        ])"
      ]
     },
     "execution_count": 116,
     "metadata": {},
     "output_type": "execute_result"
    }
   ],
   "source": [
    "y * np.log(y_pred_1)"
   ]
  },
  {
   "cell_type": "code",
   "execution_count": 109,
   "metadata": {},
   "outputs": [
    {
     "data": {
      "text/plain": [
       "0.35667480108159988"
      ]
     },
     "execution_count": 109,
     "metadata": {},
     "output_type": "execute_result"
    }
   ],
   "source": [
    "cross_entropy_error(y_pred_1, y)"
   ]
  },
  {
   "cell_type": "code",
   "execution_count": 110,
   "metadata": {},
   "outputs": [
    {
     "data": {
      "text/plain": [
       "1.6094374124342252"
      ]
     },
     "execution_count": 110,
     "metadata": {},
     "output_type": "execute_result"
    }
   ],
   "source": [
    "cross_entropy_error(y_pred_2, y)"
   ]
  },
  {
   "cell_type": "code",
   "execution_count": 111,
   "metadata": {},
   "outputs": [
    {
     "data": {
      "text/plain": [
       "0.51082545709933802"
      ]
     },
     "execution_count": 111,
     "metadata": {},
     "output_type": "execute_result"
    }
   ],
   "source": [
    "cross_entropy_error(y_pred_3, y)"
   ]
  },
  {
   "cell_type": "markdown",
   "metadata": {},
   "source": [
    "## (손실함수) 최적화\n",
    "\n",
    "... 가 \"학습\"이기 때문입니다."
   ]
  },
  {
   "cell_type": "code",
   "execution_count": 118,
   "metadata": {
    "collapsed": true
   },
   "outputs": [],
   "source": [
    "def numerical_diff(f, x):\n",
    "    h = 1e-4\n",
    "    return (f(x+h) - f(x-h)) / (2*h)"
   ]
  },
  {
   "cell_type": "markdown",
   "metadata": {},
   "source": [
    "$$ f(x) = x^2 $$"
   ]
  },
  {
   "cell_type": "code",
   "execution_count": 119,
   "metadata": {
    "collapsed": true
   },
   "outputs": [],
   "source": [
    "f = lambda x: x**2"
   ]
  },
  {
   "cell_type": "code",
   "execution_count": 124,
   "metadata": {
    "collapsed": true
   },
   "outputs": [],
   "source": [
    "dydx = lambda x: 2*x"
   ]
  },
  {
   "cell_type": "code",
   "execution_count": 120,
   "metadata": {
    "collapsed": true
   },
   "outputs": [],
   "source": [
    "x = np.linspace(-5, 5, 100)"
   ]
  },
  {
   "cell_type": "code",
   "execution_count": 129,
   "metadata": {},
   "outputs": [
    {
     "data": {
      "text/plain": [
       "[<matplotlib.lines.Line2D at 0xdba6710>]"
      ]
     },
     "execution_count": 129,
     "metadata": {},
     "output_type": "execute_result"
    },
    {
     "data": {
      "image/png": "[encoded data removed]",
      "text/plain": [
       "<matplotlib.figure.Figure at 0xda11cf8>"
      ]
     },
     "metadata": {},
     "output_type": "display_data"
    }
   ],
   "source": [
    "plt.plot(x, f(x))\n",
    "plt.plot(x, dydx(x), 'g--')\n",
    "plt.plot(x, numerical_diff(f, x), 'k-')\n",
    "plt.plot(0, 0, 'ro')"
   ]
  },
  {
   "cell_type": "markdown",
   "metadata": {},
   "source": [
    "$$ f(x_0, x_1) = x_0^2 + x_1^2 $$"
   ]
  },
  {
   "cell_type": "code",
   "execution_count": 130,
   "metadata": {
    "collapsed": true
   },
   "outputs": [],
   "source": [
    "f2 = lambda x: np.sum(x**2, 0)"
   ]
  },
  {
   "cell_type": "code",
   "execution_count": 131,
   "metadata": {
    "collapsed": true
   },
   "outputs": [],
   "source": [
    "x0 = np.arange(-5, 5, 0.25)\n",
    "x1 = np.arange(-5, 5, 0.25)"
   ]
  },
  {
   "cell_type": "code",
   "execution_count": 132,
   "metadata": {
    "collapsed": true
   },
   "outputs": [],
   "source": [
    "X0, X1 = np.meshgrid(x0, x1)"
   ]
  },
  {
   "cell_type": "code",
   "execution_count": 133,
   "metadata": {
    "collapsed": true
   },
   "outputs": [],
   "source": [
    "from mpl_toolkits.mplot3d import Axes3D"
   ]
  },
  {
   "cell_type": "code",
   "execution_count": 134,
   "metadata": {},
   "outputs": [
    {
     "data": {
      "text/plain": [
       "<mpl_toolkits.mplot3d.art3d.Poly3DCollection at 0xc8d2048>"
      ]
     },
     "execution_count": 134,
     "metadata": {},
     "output_type": "execute_result"
    },
    {
     "data": {
      "image/png": "[encoded data removed]",
      "text/plain": [
       "<matplotlib.figure.Figure at 0xdd11dd8>"
      ]
     },
     "metadata": {},
     "output_type": "display_data"
    }
   ],
   "source": [
    "fig = plt.figure()\n",
    "ax = Axes3D(fig)\n",
    "ax.plot_surface(X0, X1, f2(np.array([X0, X1])))"
   ]
  },
  {
   "cell_type": "code",
   "execution_count": 135,
   "metadata": {
    "collapsed": true
   },
   "outputs": [],
   "source": [
    "def numerical_gradient(f, x):\n",
    "    h = 1e-4\n",
    "    기울기 = np.zeros_like(x)\n",
    "    \n",
    "    # 편미분: 각 축별로 미분 수행\n",
    "    for idx in range(len(x)):\n",
    "        val = x[idx]\n",
    "        # f(x+h)\n",
    "        x[idx] = val + h\n",
    "        fxh1 = f(x) \n",
    "        # f(x-h)\n",
    "        x[idx] = val -h\n",
    "        fxh2 = f(x)\n",
    "        # 수치 미분\n",
    "        기울기[idx] = (fxh1 - fxh2) / (2*h)\n",
    "        \n",
    "    return 기울기"
   ]
  },
  {
   "cell_type": "code",
   "execution_count": 136,
   "metadata": {},
   "outputs": [
    {
     "data": {
      "text/plain": [
       "array([ 6.,  8.])"
      ]
     },
     "execution_count": 136,
     "metadata": {},
     "output_type": "execute_result"
    }
   ],
   "source": [
    "numerical_gradient(f2, np.array([3., 4.]))"
   ]
  },
  {
   "cell_type": "code",
   "execution_count": 137,
   "metadata": {},
   "outputs": [
    {
     "data": {
      "text/plain": [
       "array([ 0.,  4.])"
      ]
     },
     "execution_count": 137,
     "metadata": {},
     "output_type": "execute_result"
    }
   ],
   "source": [
    "numerical_gradient(f2, np.array([0., 2.]))"
   ]
  },
  {
   "cell_type": "code",
   "execution_count": 138,
   "metadata": {},
   "outputs": [
    {
     "data": {
      "text/plain": [
       "array([ 6.,  0.])"
      ]
     },
     "execution_count": 138,
     "metadata": {},
     "output_type": "execute_result"
    }
   ],
   "source": [
    "numerical_gradient(f2, np.array([3., .0]))"
   ]
  },
  {
   "cell_type": "code",
   "execution_count": 139,
   "metadata": {
    "collapsed": true
   },
   "outputs": [],
   "source": [
    "def 경사하강(f, 시작값, 학습률=0.01, 반복횟수=100):\n",
    "    x = 시작값    \n",
    "    x_history = [x.copy()]\n",
    "    for i in range(반복횟수):\n",
    "        기울기 = numerical_gradient(f, x)\n",
    "        # 경사하강법 (G.D.)\n",
    "        x -= 기울기 * 학습률\n",
    "        x_history.append(x.copy())\n",
    "        \n",
    "    return x_history"
   ]
  },
  {
   "cell_type": "code",
   "execution_count": 149,
   "metadata": {
    "collapsed": true
   },
   "outputs": [],
   "source": [
    "시작값 = np.array([-3., 4])"
   ]
  },
  {
   "cell_type": "code",
   "execution_count": 150,
   "metadata": {
    "collapsed": true
   },
   "outputs": [],
   "source": [
    "x_history = 경사하강(f2, 시작값, 학습률=0.1)"
   ]
  },
  {
   "cell_type": "code",
   "execution_count": 151,
   "metadata": {
    "collapsed": true
   },
   "outputs": [],
   "source": [
    "x_history = np.array(x_history)"
   ]
  },
  {
   "cell_type": "code",
   "execution_count": 152,
   "metadata": {
    "collapsed": true
   },
   "outputs": [
    {
     "data": {
      "text/plain": [
       "[<matplotlib.lines.Line2D at 0xfcf9ef0>]"
      ]
     },
     "execution_count": 152,
     "metadata": {},
     "output_type": "execute_result"
    },
    {
     "data": {
      "image/png": "[encoded data removed]",
      "text/plain": [
       "<matplotlib.figure.Figure at 0xe64d4e0>"
      ]
     },
     "metadata": {},
     "output_type": "display_data"
    }
   ],
   "source": [
    "plt.plot(x_history[:, 0], x_history[:, 1], 'ro')\n",
    "# 보조선\n",
    "plt.plot([-5, 5], [0, 0], 'b--')\n",
    "plt.plot([0, 0], [-5, 5], 'b--')"
   ]
  },
  {
   "cell_type": "code",
   "execution_count": 153,
   "metadata": {},
   "outputs": [
    {
     "data": {
      "text/plain": [
       "array([-0.0005, -0.0005])"
      ]
     },
     "execution_count": 153,
     "metadata": {},
     "output_type": "execute_result"
    }
   ],
   "source": [
    "x_history[-1]"
   ]
  },
  {
   "cell_type": "code",
   "execution_count": 188,
   "metadata": {
    "collapsed": true
   },
   "outputs": [],
   "source": [
    "# %load neuralnet.py\n",
    "import numpy as np\n",
    "\n",
    "def sigmoid(x):\n",
    "    return 1 / (1 + np.exp(-x))\n",
    "\n",
    "def numerical_gradient(f, x):\n",
    "    h = 1e-4\n",
    "    기울기 = np.zeros_like(x)\n",
    "    \n",
    "    # 편미분: 각 축별로 미분 수행\n",
    "    for idx in range(len(x)):\n",
    "        val = x[idx]\n",
    "        # f(x+h)\n",
    "        x[idx] = val + h\n",
    "        fxh1 = f(x) \n",
    "        # f(x-h)\n",
    "        x[idx] = val -h\n",
    "        fxh2 = f(x)\n",
    "        # 수치 미분\n",
    "        기울기[idx] = (fxh1 - fxh2) / (2*h)\n",
    "        \n",
    "    return 기울기\n",
    "\n",
    "def numerical_gradient_batch(f, X):\n",
    "    if X.ndim == 1:\n",
    "        return numerical_gradient(f, X)\n",
    "    \n",
    "    기울기 = np.zeros_like(X)\n",
    "    for idx, x in enumerate(X):\n",
    "        기울기[idx] = numerical_gradient(f, x)\n",
    "    return 기울기\n",
    "\n",
    "class Layer:\n",
    "    def __init__(self, 입력수, 출력수, 활성화):\n",
    "        self.W = np.random.randn(입력수, 출력수)\n",
    "        self.b = np.random.randn(출력수)\n",
    "        self.activation = 활성화\n",
    "        \n",
    "    def forward(self, X):\n",
    "        z = np.dot(X, self.W) + self.b\n",
    "        return self.activation(z)\n",
    "\n",
    "class FeedForwardNet:\n",
    "    def __init__(self, 손실함수):\n",
    "        self.layers = []\n",
    "        self.loss_func = 손실함수\n",
    "        \n",
    "    def add(self, layer):\n",
    "        self.layers.append(layer)\n",
    "        \n",
    "    def predict(self, X):\n",
    "        \"\"\"신경망 순전파\"\"\"\n",
    "        layer_output = X\n",
    "        for layer in self.layers:\n",
    "            layer_output = layer.forward(layer_output)            \n",
    "        y = layer_output\n",
    "        return y\n",
    "\n",
    "    def 손실산출(self, X, y):\n",
    "        y_pred = self.predict(X)\n",
    "        loss = self.loss_func(y_pred, y)\n",
    "        return loss\n",
    "    \n",
    "    def fit(self, X, y, 학습횟수, 학습률, 배치크기):\n",
    "        loss_history = []\n",
    "        for i in range(학습횟수):\n",
    "            print('훈련', i+1)\n",
    "            # 1. 미니 배치\n",
    "            미니배치_색인 = np.random.choice(len(X), 배치크기)\n",
    "            X_batch = X[미니배치_색인]\n",
    "            y_batch = y[미니배치_색인]\n",
    "            # 2. W, b에 대한 기울기 산출\n",
    "            기울기 = []\n",
    "            for layer in self.layers:\n",
    "                f = lambda W: self.손실산출(X_batch, y_batch)\n",
    "                dW = numerical_gradient_batch(f, layer.W)\n",
    "                db = numerical_gradient_batch(f, layer.b)\n",
    "                기울기.append((dW, db))\n",
    "            # 3. 매개변수 갱신\n",
    "            for layer, (dW, db) in zip(self.layers, 기울기):\n",
    "                layer.W -= dW * 학습률\n",
    "                layer.b -= db * 학습률\n",
    "            # 4. 손실 수집\n",
    "            loss = self.손실산출(X_batch, y_batch)\n",
    "            loss_history.append(loss)\n",
    "            print('\\t손실:', loss)\n",
    "\n",
    "        return loss_history "
   ]
  },
  {
   "cell_type": "code",
   "execution_count": 189,
   "metadata": {
    "collapsed": true
   },
   "outputs": [],
   "source": [
    "def cross_entropy_error_batch(y_pred, y):\n",
    "    delta = 1e-7\n",
    "    batch_size = len(y)\n",
    "    return -np.sum(y * np.log(y_pred + delta)) / batch_size"
   ]
  },
  {
   "cell_type": "code",
   "execution_count": 190,
   "metadata": {
    "collapsed": true
   },
   "outputs": [],
   "source": [
    "def softmax(a):\n",
    "    c = np.max(a)\n",
    "    exp_a = np.exp(a - c)\n",
    "    y = exp_a / np.sum(exp_a)\n",
    "    return y"
   ]
  },
  {
   "cell_type": "code",
   "execution_count": 191,
   "metadata": {},
   "outputs": [
    {
     "data": {
      "text/plain": [
       "array([ 0.01821127,  0.24519181,  0.73659691])"
      ]
     },
     "execution_count": 191,
     "metadata": {},
     "output_type": "execute_result"
    }
   ],
   "source": [
    "a = np.array([0.3, 2.9, 4.0])\n",
    "softmax(a)"
   ]
  },
  {
   "cell_type": "code",
   "execution_count": 192,
   "metadata": {},
   "outputs": [
    {
     "data": {
      "text/plain": [
       "array([[ 0.3,  2.9,  4. ],\n",
       "       [ 0.3,  2.9,  4. ]])"
      ]
     },
     "execution_count": 192,
     "metadata": {},
     "output_type": "execute_result"
    }
   ],
   "source": [
    "A = np.vstack([a, a])\n",
    "A"
   ]
  },
  {
   "cell_type": "code",
   "execution_count": 193,
   "metadata": {},
   "outputs": [
    {
     "data": {
      "text/plain": [
       "array([[ 0.01821127,  0.24519181,  0.73659691],\n",
       "       [ 0.01821127,  0.24519181,  0.73659691]])"
      ]
     },
     "execution_count": 193,
     "metadata": {},
     "output_type": "execute_result"
    }
   ],
   "source": [
    "np.apply_along_axis(softmax, 1, A)"
   ]
  },
  {
   "cell_type": "code",
   "execution_count": 194,
   "metadata": {
    "collapsed": true
   },
   "outputs": [],
   "source": [
    "def softmax_batch(A):\n",
    "    return np.apply_along_axis(softmax, 1, A)"
   ]
  },
  {
   "cell_type": "code",
   "execution_count": 195,
   "metadata": {
    "collapsed": true
   },
   "outputs": [],
   "source": [
    "model = FeedForwardNet(손실함수=cross_entropy_error_batch)"
   ]
  },
  {
   "cell_type": "code",
   "execution_count": 196,
   "metadata": {
    "collapsed": true
   },
   "outputs": [],
   "source": [
    "model.add(Layer(784, 50, sigmoid))\n",
    "model.add(Layer(50, 100, sigmoid))\n",
    "model.add(Layer(100, 10, softmax_batch))"
   ]
  },
  {
   "cell_type": "code",
   "execution_count": 197,
   "metadata": {},
   "outputs": [],
   "source": [
    "X_train = X_train.reshape(-1, 1*28*28)"
   ]
  },
  {
   "cell_type": "code",
   "execution_count": 198,
   "metadata": {
    "collapsed": true
   },
   "outputs": [],
   "source": [
    "X_train = X_train.astype('float32') / 255."
   ]
  },
  {
   "cell_type": "code",
   "execution_count": 199,
   "metadata": {},
   "outputs": [
    {
     "data": {
      "text/plain": [
       "(0.0039215689, 0.0)"
      ]
     },
     "execution_count": 199,
     "metadata": {},
     "output_type": "execute_result"
    }
   ],
   "source": [
    "X_train.max(), X_train.min()"
   ]
  },
  {
   "cell_type": "code",
   "execution_count": null,
   "metadata": {},
   "outputs": [],
   "source": [
    "Y_train = pd.get_dummies(y_train).values"
   ]
  },
  {
   "cell_type": "code",
   "execution_count": null,
   "metadata": {},
   "outputs": [
    {
     "name": "stdout",
     "output_type": "stream",
     "text": [
      "훈련 1\n",
      "\t손실: 8.53785796675\n",
      "훈련 2\n",
      "\t손실: 8.47724428478\n",
      "훈련 3\n",
      "\t손실: 8.35901896245\n",
      "훈련 4\n",
      "\t손실: 9.0392244414\n",
      "훈련 5\n",
      "\t손실: 8.11485398632\n",
      "훈련 6\n",
      "\t손실: 7.84602549627\n",
      "훈련 7\n",
      "\t손실: 7.5594902721\n",
      "훈련 8\n",
      "\t손실: 8.39079875111\n",
      "훈련 9\n",
      "\t손실: 7.28210208558\n",
      "훈련 10\n",
      "\t손실: 7.35728293194\n",
      "훈련 11\n",
      "\t손실: 6.89392528196\n",
      "훈련 12\n",
      "\t손실: 7.463698811\n",
      "훈련 13\n",
      "\t손실: 6.95149396959\n",
      "훈련 14\n",
      "\t손실: 6.96372687267\n",
      "훈련 15\n",
      "\t손실: 6.99769754702\n",
      "훈련 16\n",
      "\t손실: 6.53482878667\n",
      "훈련 17\n",
      "\t손실: 6.43691613646\n",
      "훈련 18\n",
      "\t손실: 7.06960572016\n",
      "훈련 19\n",
      "\t손실: 6.3912252068\n",
      "훈련 20\n",
      "\t손실: 6.28606085126\n",
      "훈련 21\n",
      "\t손실: 5.37075306918\n",
      "훈련 22\n",
      "\t손실: 6.54090524905\n",
      "훈련 23\n",
      "\t손실: 5.92245265715\n",
      "훈련 24\n",
      "\t손실: 5.48778024981\n",
      "훈련 25\n",
      "\t손실: 6.04768594641\n",
      "훈련 26\n",
      "\t손실: 6.0751264488\n",
      "훈련 27\n",
      "\t손실: 5.48244812157\n",
      "훈련 28\n",
      "\t손실: 5.96350827227\n",
      "훈련 29\n",
      "\t손실: 5.50175850853\n",
      "훈련 30\n",
      "\t손실: 5.91341669668\n",
      "훈련 31\n",
      "\t손실: 4.68613486736\n",
      "훈련 32\n",
      "\t손실: 5.34433474344\n",
      "훈련 33\n",
      "\t손실: 5.0105089276\n",
      "훈련 34\n",
      "\t손실: 5.23600623261\n",
      "훈련 35\n",
      "\t손실: 5.81914754342\n",
      "훈련 36\n",
      "\t손실: 4.92392074951\n",
      "훈련 37\n",
      "\t손실: 5.21994014526\n",
      "훈련 38\n",
      "\t손실: 4.43166224133\n",
      "훈련 39\n",
      "\t손실: 5.37423388306\n",
      "훈련 40\n",
      "\t손실: 3.6887449384\n",
      "훈련 41\n",
      "\t손실: 5.26787195748\n",
      "훈련 42\n",
      "\t손실: 4.55899289993\n",
      "훈련 43\n",
      "\t손실: 4.3081170768\n",
      "훈련 44\n",
      "\t손실: 4.53960633085\n",
      "훈련 45\n",
      "\t손실: 4.71152155571\n",
      "훈련 46\n",
      "\t손실: 4.91065923921\n",
      "훈련 47\n",
      "\t손실: 4.88628182515\n",
      "훈련 48\n",
      "\t손실: 4.26977670683\n",
      "훈련 49\n",
      "\t손실: 4.0266566659\n",
      "훈련 50\n",
      "\t손실: 3.75558455902\n",
      "훈련 51\n",
      "\t손실: 4.40335147513\n",
      "훈련 52\n",
      "\t손실: 4.78276489076\n",
      "훈련 53\n",
      "\t손실: 3.88819414812\n",
      "훈련 54\n",
      "\t손실: 4.22319525573\n",
      "훈련 55\n",
      "\t손실: 4.72742085259\n",
      "훈련 56\n",
      "\t손실: 4.66288102021\n",
      "훈련 57\n",
      "\t손실: 3.83557965285\n",
      "훈련 58\n",
      "\t손실: 4.20522620849\n",
      "훈련 59\n",
      "\t손실: 3.71203267972\n",
      "훈련 60\n",
      "\t손실: 4.31461926986\n",
      "훈련 61\n",
      "\t손실: 3.83021971947\n",
      "훈련 62\n",
      "\t손실: 3.89276806527\n",
      "훈련 63\n",
      "\t손실: 3.08595324277\n",
      "훈련 64\n",
      "\t손실: 3.65693379317\n",
      "훈련 65\n",
      "\t손실: 3.45640482272\n",
      "훈련 66\n",
      "\t손실: 3.25575771875\n",
      "훈련 67\n",
      "\t손실: 4.20843061426\n",
      "훈련 68\n",
      "\t손실: 4.07075621357\n",
      "훈련 69\n",
      "\t손실: 3.65085234317\n",
      "훈련 70\n",
      "\t손실: 3.60575983016\n",
      "훈련 71\n",
      "\t손실: 3.11782576585\n",
      "훈련 72\n",
      "\t손실: 3.84473197874\n",
      "훈련 73\n",
      "\t손실: 3.19852146286\n",
      "훈련 74\n",
      "\t손실: 3.37644116282\n",
      "훈련 75\n",
      "\t손실: 3.55542332905\n",
      "훈련 76\n",
      "\t손실: 3.41768802702\n",
      "훈련 77\n",
      "\t손실: 3.37070944893\n",
      "훈련 78\n",
      "\t손실: 3.0141011801\n",
      "훈련 79\n",
      "\t손실: 3.27319121494\n",
      "훈련 80\n",
      "\t손실: 3.39706855652\n",
      "훈련 81\n",
      "\t손실: 2.87974912585\n",
      "훈련 82\n",
      "\t손실: 3.27456099263\n",
      "훈련 83\n",
      "\t손실: 3.45326520066\n",
      "훈련 84\n",
      "\t손실: 3.53742808819\n",
      "훈련 85\n",
      "\t손실: 3.38998073282\n",
      "훈련 86\n",
      "\t손실: 3.08966970899\n",
      "훈련 87\n",
      "\t손실: 3.10756187319\n",
      "훈련 88\n",
      "\t손실: 3.223882478\n",
      "훈련 89\n",
      "\t손실: 2.98426411768\n",
      "훈련 90\n",
      "\t손실: 3.4539705275\n",
      "훈련 91\n",
      "\t손실: 3.08981186328\n",
      "훈련 92\n",
      "\t손실: 2.80242325437\n",
      "훈련 93\n",
      "\t손실: 2.99271226533\n",
      "훈련 94\n",
      "\t손실: 3.21033182986\n",
      "훈련 95\n",
      "\t손실: 3.09333849641\n",
      "훈련 96\n",
      "\t손실: 3.17635371836\n",
      "훈련 97\n",
      "\t손실: 3.30852995855\n",
      "훈련 98\n",
      "\t손실: 3.208282435\n",
      "훈련 99\n",
      "\t손실: 3.17667500286\n",
      "훈련 100\n",
      "\t손실: 3.10481308025\n",
      "훈련 101\n",
      "\t손실: 2.71070650699\n",
      "훈련 102\n",
      "\t손실: 3.00831389394\n",
      "훈련 103\n",
      "\t손실: 2.79205105743\n",
      "훈련 104\n",
      "\t손실: 3.09487147116\n",
      "훈련 105\n",
      "\t손실: 2.84551110913\n",
      "훈련 106\n",
      "\t손실: 3.28959140349\n",
      "훈련 107\n",
      "\t손실: 3.07891754923\n",
      "훈련 108\n",
      "\t손실: 3.32030483506\n",
      "훈련 109\n",
      "\t손실: 3.05082551884\n",
      "훈련 110\n",
      "\t손실: 3.26016167342\n",
      "훈련 111\n",
      "\t손실: 2.73816904226\n",
      "훈련 112\n",
      "\t손실: 2.77870374316\n",
      "훈련 113\n",
      "\t손실: 2.95051798853\n",
      "훈련 114\n",
      "\t손실: 2.73394083019\n",
      "훈련 115\n",
      "\t손실: 2.7466415524\n",
      "훈련 116\n",
      "\t손실: 2.98900198469\n",
      "훈련 117\n",
      "\t손실: 2.79254051317\n",
      "훈련 118\n",
      "\t손실: 2.68972958377\n",
      "훈련 119\n",
      "\t손실: 2.82150755146\n",
      "훈련 120\n",
      "\t손실: 2.8330201906\n",
      "훈련 121\n",
      "\t손실: 2.56916655859\n",
      "훈련 122\n",
      "\t손실: 2.92233659791\n",
      "훈련 123\n",
      "\t손실: 2.91362490859\n",
      "훈련 124\n",
      "\t손실: 2.66620342841\n",
      "훈련 125\n",
      "\t손실: 2.77936320095\n",
      "훈련 126\n",
      "\t손실: 2.73182682367\n",
      "훈련 127\n",
      "\t손실: 2.67586810917\n",
      "훈련 128\n",
      "\t손실: 2.77326140981\n",
      "훈련 129\n",
      "\t손실: 2.50077554086\n",
      "훈련 130\n",
      "\t손실: 2.58065747382\n",
      "훈련 131\n",
      "\t손실: 2.59166455017\n",
      "훈련 132\n",
      "\t손실: 2.69772303848\n",
      "훈련 133\n",
      "\t손실: 2.55631777257\n",
      "훈련 134\n",
      "\t손실: 2.83314225118\n",
      "훈련 135\n",
      "\t손실: 2.5675719473\n",
      "훈련 136\n",
      "\t손실: 2.37465709578\n",
      "훈련 137\n",
      "\t손실: 2.52263829767\n",
      "훈련 138\n",
      "\t손실: 2.4930239424\n",
      "훈련 139\n",
      "\t손실: 2.5935906625\n",
      "훈련 140\n",
      "\t손실: 2.49376195485\n",
      "훈련 141\n",
      "\t손실: 2.45437097675\n",
      "훈련 142\n",
      "\t손실: 2.4283147338\n",
      "훈련 143\n",
      "\t손실: 2.5425905301\n",
      "훈련 144\n",
      "\t손실: 2.40037871428\n",
      "훈련 145\n",
      "\t손실: 2.50428210943\n",
      "훈련 146\n",
      "\t손실: 2.60864644464\n",
      "훈련 147\n",
      "\t손실: 2.60127085937\n",
      "훈련 148\n",
      "\t손실: 2.45951561444\n",
      "훈련 149\n",
      "\t손실: 2.4820543554\n",
      "훈련 150\n",
      "\t손실: 2.4496466829\n",
      "훈련 151\n",
      "\t손실: 2.46643921788\n",
      "훈련 152\n",
      "\t손실: 2.39136041632\n",
      "훈련 153\n",
      "\t손실: 2.40239749312\n",
      "훈련 154\n",
      "\t손실: 2.452579469\n",
      "훈련 155\n",
      "\t손실: 2.37759884885\n",
      "훈련 156\n",
      "\t손실: 2.43558152929\n",
      "훈련 157\n",
      "\t손실: 2.41988970236\n",
      "훈련 158\n",
      "\t손실: 2.59336089152\n",
      "훈련 159\n",
      "\t손실: 2.47867843183\n",
      "훈련 160\n",
      "\t손실: 2.51090980086\n",
      "훈련 161\n",
      "\t손실: 2.4126467429\n",
      "훈련 162\n",
      "\t손실: 2.52790686511\n",
      "훈련 163\n",
      "\t손실: 2.41126747964\n",
      "훈련 164\n",
      "\t손실: 2.44746199587\n",
      "훈련 165\n",
      "\t손실: 2.47184526616\n",
      "훈련 166\n",
      "\t손실: 2.44446000655\n",
      "훈련 167\n",
      "\t손실: 2.41119019483\n",
      "훈련 168\n",
      "\t손실: 2.36847690801\n",
      "훈련 169\n",
      "\t손실: 2.37692951532\n",
      "훈련 170\n",
      "\t손실: 2.33359087848\n",
      "훈련 171\n",
      "\t손실: 2.3759716259\n",
      "훈련 172\n",
      "\t손실: 2.32209851337\n",
      "훈련 173\n",
      "\t손실: 2.28715064518\n",
      "훈련 174\n",
      "\t손실: 2.35932045753\n",
      "훈련 175\n",
      "\t손실: 2.3169023457\n",
      "훈련 176\n",
      "\t손실: 2.34337313073\n",
      "훈련 177\n",
      "\t손실: 2.29721982077\n",
      "훈련 178\n",
      "\t손실: 2.32621583748\n",
      "훈련 179\n",
      "\t손실: 2.35393421975\n",
      "훈련 180\n",
      "\t손실: 2.29750962545\n",
      "훈련 181\n",
      "\t손실: 2.37093668104\n",
      "훈련 182\n",
      "\t손실: 2.36158841823\n",
      "훈련 183\n",
      "\t손실: 2.29354704297\n",
      "훈련 184\n",
      "\t손실: 2.26989219899\n",
      "훈련 185\n",
      "\t손실: 2.29357423321\n",
      "훈련 186\n",
      "\t손실: 2.33352683969\n",
      "훈련 187\n",
      "\t손실: 2.30434218238\n",
      "훈련 188\n",
      "\t손실: 2.30980391227\n",
      "훈련 189\n",
      "\t손실: 2.34136922324\n",
      "훈련 190\n",
      "\t손실: 2.30523685649\n",
      "훈련 191\n",
      "\t손실: 2.32180966594\n",
      "훈련 192\n",
      "\t손실: 2.32170498393\n",
      "훈련 193\n",
      "\t손실: 2.31337152424\n",
      "훈련 194\n",
      "\t손실: 2.30700369378\n",
      "훈련 195\n",
      "\t손실: 2.33916382845\n",
      "훈련 196\n",
      "\t손실: 2.31506115912\n",
      "훈련 197\n",
      "\t손실: 2.30305247975\n",
      "훈련 198\n",
      "\t손실: 2.28729623173\n",
      "훈련 199\n",
      "\t손실: 2.29775356849\n",
      "훈련 200\n",
      "\t손실: 2.27982835815\n",
      "훈련 201\n",
      "\t손실: 2.34442238592\n",
      "훈련 202\n",
      "\t손실: 2.34123449114\n",
      "훈련 203\n",
      "\t손실: 2.3285573895\n",
      "훈련 204\n",
      "\t손실: 2.29152059922\n",
      "훈련 205\n",
      "\t손실: 2.32319549344\n",
      "훈련 206\n",
      "\t손실: 2.32757965313\n",
      "훈련 207\n",
      "\t손실: 2.31821582785\n",
      "훈련 208\n",
      "\t손실: 2.33081591667\n",
      "훈련 209\n",
      "\t손실: 2.31855434371\n",
      "훈련 210\n",
      "\t손실: 2.30939618212\n",
      "훈련 211\n",
      "\t손실: 2.32251624382\n",
      "훈련 212\n",
      "\t손실: 2.30927154434\n",
      "훈련 213\n",
      "\t손실: 2.30869342701\n",
      "훈련 214\n",
      "\t손실: 2.29488756264\n",
      "훈련 215\n",
      "\t손실: 2.30076436009\n",
      "훈련 216\n",
      "\t손실: 2.30611118772\n",
      "훈련 217\n",
      "\t손실: 2.32425205922\n",
      "훈련 218\n",
      "\t손실: 2.30767421559\n",
      "훈련 219\n",
      "\t손실: 2.31272660786\n",
      "훈련 220\n",
      "\t손실: 2.32088781047\n",
      "훈련 221\n",
      "\t손실: 2.30011321325\n",
      "훈련 222\n",
      "\t손실: 2.32519789224\n",
      "훈련 223\n",
      "\t손실: 2.32032239808\n",
      "훈련 224\n",
      "\t손실: 2.32168072123\n",
      "훈련 225\n",
      "\t손실: 2.29676350505\n",
      "훈련 226\n",
      "\t손실: 2.31403952447\n",
      "훈련 227\n",
      "\t손실: 2.29629331669\n",
      "훈련 228\n",
      "\t손실: 2.30008489391\n",
      "훈련 229\n",
      "\t손실: 2.30748107798\n",
      "훈련 230\n",
      "\t손실: 2.29068649858\n",
      "훈련 231\n",
      "\t손실: 2.3027137778\n",
      "훈련 232\n",
      "\t손실: 2.30732723143\n",
      "훈련 233\n",
      "\t손실: 2.29181511714\n",
      "훈련 234\n",
      "\t손실: 2.33209221116\n",
      "훈련 235\n",
      "\t손실: 2.30819764559\n",
      "훈련 236\n",
      "\t손실: 2.30290833594\n",
      "훈련 237\n",
      "\t손실: 2.32213360593\n",
      "훈련 238\n",
      "\t손실: 2.30453301915\n",
      "훈련 239\n",
      "\t손실: 2.30544001122\n",
      "훈련 240\n",
      "\t손실: 2.3077428961\n",
      "훈련 241\n",
      "\t손실: 2.31472802974\n",
      "훈련 242\n",
      "\t손실: 2.32373924778\n",
      "훈련 243\n",
      "\t손실: 2.3094186594\n",
      "훈련 244\n",
      "\t손실: 2.30160639998\n",
      "훈련 245\n",
      "\t손실: 2.30289237004\n",
      "훈련 246\n",
      "\t손실: 2.30961857022\n",
      "훈련 247\n",
      "\t손실: 2.31407070477\n",
      "훈련 248\n",
      "\t손실: 2.30015234623\n",
      "훈련 249\n",
      "\t손실: 2.32105434741\n",
      "훈련 250\n",
      "\t손실: 2.30683601016\n",
      "훈련 251\n",
      "\t손실: 2.30136203805\n",
      "훈련 252\n",
      "\t손실: 2.32019003267\n",
      "훈련 253\n",
      "\t손실: 2.31763239399\n",
      "훈련 254\n",
      "\t손실: 2.30414005871\n",
      "훈련 255\n",
      "\t손실: 2.31291106964\n",
      "훈련 256\n",
      "\t손실: 2.28586080334\n",
      "훈련 257\n",
      "\t손실: 2.30160981944\n",
      "훈련 258\n",
      "\t손실: 2.30074333421\n",
      "훈련 259\n",
      "\t손실: 2.31215857646\n",
      "훈련 260\n",
      "\t손실: 2.30264177198\n",
      "훈련 261\n",
      "\t손실: 2.30854262607\n",
      "훈련 262\n",
      "\t손실: 2.3139942806\n",
      "훈련 263\n",
      "\t손실: 2.31139913316\n",
      "훈련 264\n",
      "\t손실: 2.31415954843\n",
      "훈련 265\n",
      "\t손실: 2.30452889686\n",
      "훈련 266\n",
      "\t손실: 2.30500654078\n",
      "훈련 267\n"
     ]
    }
   ],
   "source": [
    "loss_history = model.fit(X_train, Y_train, \n",
    "                         학습횟수=1000, 학습률=0.01, 배치크기=100)"
   ]
  },
  {
   "cell_type": "code",
   "execution_count": null,
   "metadata": {
    "collapsed": true
   },
   "outputs": [],
   "source": []
  }
 ],
 "metadata": {
  "kernelspec": {
   "display_name": "Python 3",
   "language": "python",
   "name": "python3"
  },
  "language_info": {
   "codemirror_mode": {
    "name": "ipython",
    "version": 3
   },
   "file_extension": ".py",
   "mimetype": "text/x-python",
   "name": "python",
   "nbconvert_exporter": "python",
   "pygments_lexer": "ipython3",
   "version": "3.6.3"
  }
 },
 "nbformat": 4,
 "nbformat_minor": 2
}
