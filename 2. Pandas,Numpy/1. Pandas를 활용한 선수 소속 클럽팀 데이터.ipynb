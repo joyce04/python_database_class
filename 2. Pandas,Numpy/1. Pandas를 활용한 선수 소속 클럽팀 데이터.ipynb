{
 "cells": [
  {
   "cell_type": "markdown",
   "metadata": {},
   "source": [
    "### Pandas를 활용하여 선수들의 소속팀 세어보기\n",
    "\n",
    "- 2018 축구 월드컵에 출전한 선수들에 대한 데이터 입니다\n",
    "- 데이터 출처 : https://www.fifa.com/worldcup/"
   ]
  },
  {
   "cell_type": "markdown",
   "metadata": {},
   "source": [
    "#### Pandas\n",
    "\n",
    "- 주요 자료구조는 DataFrame인데, 테이블이나 엑셀의 스프레드시트 같은 형태와 비슷하다"
   ]
  },
  {
   "cell_type": "code",
   "execution_count": 1,
   "metadata": {},
   "outputs": [],
   "source": [
    "import pandas as pd"
   ]
  },
  {
   "cell_type": "code",
   "execution_count": 2,
   "metadata": {},
   "outputs": [
    {
     "data": {
      "text/plain": [
       "(736, 8)"
      ]
     },
     "execution_count": 2,
     "metadata": {},
     "output_type": "execute_result"
    }
   ],
   "source": [
    "# pandas를 통해 데이터를 읽어온다\n",
    "players = pd.read_csv('../misc/data/2018_worldcup_players.tsv', sep='\\t')\n",
    "players.shape"
   ]
  },
  {
   "cell_type": "code",
   "execution_count": 3,
   "metadata": {},
   "outputs": [
    {
     "data": {
      "text/html": [
       "<div>\n",
       "<style scoped>\n",
       "    .dataframe tbody tr th:only-of-type {\n",
       "        vertical-align: middle;\n",
       "    }\n",
       "\n",
       "    .dataframe tbody tr th {\n",
       "        vertical-align: top;\n",
       "    }\n",
       "\n",
       "    .dataframe thead th {\n",
       "        text-align: right;\n",
       "    }\n",
       "</style>\n",
       "<table border=\"1\" class=\"dataframe\">\n",
       "  <thead>\n",
       "    <tr style=\"text-align: right;\">\n",
       "      <th></th>\n",
       "      <th>id</th>\n",
       "      <th>country</th>\n",
       "      <th>num</th>\n",
       "      <th>name</th>\n",
       "      <th>club</th>\n",
       "      <th>birth</th>\n",
       "      <th>height</th>\n",
       "      <th>position</th>\n",
       "    </tr>\n",
       "  </thead>\n",
       "  <tbody>\n",
       "    <tr>\n",
       "      <th>0</th>\n",
       "      <td>1</td>\n",
       "      <td>Saudi Arabia</td>\n",
       "      <td>1</td>\n",
       "      <td>ABDULLAH ALMUAIOUF</td>\n",
       "      <td>Al Hilal (KSA)</td>\n",
       "      <td>23/01/87</td>\n",
       "      <td>178</td>\n",
       "      <td>GK</td>\n",
       "    </tr>\n",
       "    <tr>\n",
       "      <th>1</th>\n",
       "      <td>2</td>\n",
       "      <td>Saudi Arabia</td>\n",
       "      <td>3</td>\n",
       "      <td>OSAMA HAWSAWI</td>\n",
       "      <td>Al Hilal (KSA)</td>\n",
       "      <td>31/03/84</td>\n",
       "      <td>188</td>\n",
       "      <td>DF</td>\n",
       "    </tr>\n",
       "    <tr>\n",
       "      <th>2</th>\n",
       "      <td>3</td>\n",
       "      <td>Saudi Arabia</td>\n",
       "      <td>5</td>\n",
       "      <td>OMAR HAWSAWI</td>\n",
       "      <td>Al Nasr (KSA)</td>\n",
       "      <td>27/09/85</td>\n",
       "      <td>185</td>\n",
       "      <td>DF</td>\n",
       "    </tr>\n",
       "    <tr>\n",
       "      <th>3</th>\n",
       "      <td>4</td>\n",
       "      <td>Saudi Arabia</td>\n",
       "      <td>6</td>\n",
       "      <td>MOHAMMED ALBURAYK</td>\n",
       "      <td>Al Hilal (KSA)</td>\n",
       "      <td>15/09/92</td>\n",
       "      <td>173</td>\n",
       "      <td>DF</td>\n",
       "    </tr>\n",
       "    <tr>\n",
       "      <th>4</th>\n",
       "      <td>5</td>\n",
       "      <td>Saudi Arabia</td>\n",
       "      <td>7</td>\n",
       "      <td>SALMAN ALFARAJ</td>\n",
       "      <td>Al Hilal (KSA)</td>\n",
       "      <td>01/08/89</td>\n",
       "      <td>179</td>\n",
       "      <td>MF</td>\n",
       "    </tr>\n",
       "  </tbody>\n",
       "</table>\n",
       "</div>"
      ],
      "text/plain": [
       "   id       country  num                name            club     birth  \\\n",
       "0   1  Saudi Arabia    1  ABDULLAH ALMUAIOUF  Al Hilal (KSA)  23/01/87   \n",
       "1   2  Saudi Arabia    3       OSAMA HAWSAWI  Al Hilal (KSA)  31/03/84   \n",
       "2   3  Saudi Arabia    5        OMAR HAWSAWI   Al Nasr (KSA)  27/09/85   \n",
       "3   4  Saudi Arabia    6   MOHAMMED ALBURAYK  Al Hilal (KSA)  15/09/92   \n",
       "4   5  Saudi Arabia    7      SALMAN ALFARAJ  Al Hilal (KSA)  01/08/89   \n",
       "\n",
       "   height position  \n",
       "0     178       GK  \n",
       "1     188       DF  \n",
       "2     185       DF  \n",
       "3     173       DF  \n",
       "4     179       MF  "
      ]
     },
     "execution_count": 3,
     "metadata": {},
     "output_type": "execute_result"
    }
   ],
   "source": [
    "# 예제 record를 확인한다\n",
    "players.head()"
   ]
  },
  {
   "cell_type": "code",
   "execution_count": 4,
   "metadata": {},
   "outputs": [
    {
     "data": {
      "text/html": [
       "<div>\n",
       "<style scoped>\n",
       "    .dataframe tbody tr th:only-of-type {\n",
       "        vertical-align: middle;\n",
       "    }\n",
       "\n",
       "    .dataframe tbody tr th {\n",
       "        vertical-align: top;\n",
       "    }\n",
       "\n",
       "    .dataframe thead th {\n",
       "        text-align: right;\n",
       "    }\n",
       "</style>\n",
       "<table border=\"1\" class=\"dataframe\">\n",
       "  <thead>\n",
       "    <tr style=\"text-align: right;\">\n",
       "      <th></th>\n",
       "      <th>id</th>\n",
       "      <th>num</th>\n",
       "      <th>height</th>\n",
       "    </tr>\n",
       "  </thead>\n",
       "  <tbody>\n",
       "    <tr>\n",
       "      <th>count</th>\n",
       "      <td>736.000000</td>\n",
       "      <td>736.00000</td>\n",
       "      <td>736.000000</td>\n",
       "    </tr>\n",
       "    <tr>\n",
       "      <th>mean</th>\n",
       "      <td>380.269022</td>\n",
       "      <td>12.00000</td>\n",
       "      <td>182.442935</td>\n",
       "    </tr>\n",
       "    <tr>\n",
       "      <th>std</th>\n",
       "      <td>230.037260</td>\n",
       "      <td>6.63776</td>\n",
       "      <td>6.858492</td>\n",
       "    </tr>\n",
       "    <tr>\n",
       "      <th>min</th>\n",
       "      <td>1.000000</td>\n",
       "      <td>1.00000</td>\n",
       "      <td>165.000000</td>\n",
       "    </tr>\n",
       "    <tr>\n",
       "      <th>25%</th>\n",
       "      <td>184.750000</td>\n",
       "      <td>6.00000</td>\n",
       "      <td>178.000000</td>\n",
       "    </tr>\n",
       "    <tr>\n",
       "      <th>50%</th>\n",
       "      <td>368.500000</td>\n",
       "      <td>12.00000</td>\n",
       "      <td>183.000000</td>\n",
       "    </tr>\n",
       "    <tr>\n",
       "      <th>75%</th>\n",
       "      <td>553.250000</td>\n",
       "      <td>18.00000</td>\n",
       "      <td>187.000000</td>\n",
       "    </tr>\n",
       "    <tr>\n",
       "      <th>max</th>\n",
       "      <td>801.000000</td>\n",
       "      <td>23.00000</td>\n",
       "      <td>201.000000</td>\n",
       "    </tr>\n",
       "  </tbody>\n",
       "</table>\n",
       "</div>"
      ],
      "text/plain": [
       "               id        num      height\n",
       "count  736.000000  736.00000  736.000000\n",
       "mean   380.269022   12.00000  182.442935\n",
       "std    230.037260    6.63776    6.858492\n",
       "min      1.000000    1.00000  165.000000\n",
       "25%    184.750000    6.00000  178.000000\n",
       "50%    368.500000   12.00000  183.000000\n",
       "75%    553.250000   18.00000  187.000000\n",
       "max    801.000000   23.00000  201.000000"
      ]
     },
     "execution_count": 4,
     "metadata": {},
     "output_type": "execute_result"
    }
   ],
   "source": [
    "# 데이터의 숫자 통계값들을 확인한다\n",
    "players.describe()"
   ]
  },
  {
   "cell_type": "code",
   "execution_count": 5,
   "metadata": {},
   "outputs": [
    {
     "data": {
      "text/plain": [
       "id          0\n",
       "country     0\n",
       "num         0\n",
       "name        0\n",
       "club        0\n",
       "birth       0\n",
       "height      0\n",
       "position    0\n",
       "dtype: int64"
      ]
     },
     "execution_count": 5,
     "metadata": {},
     "output_type": "execute_result"
    }
   ],
   "source": [
    "# 데이터 중 비어있는 값이 있는지 확인하자\n",
    "players.isnull().sum()"
   ]
  },
  {
   "cell_type": "code",
   "execution_count": 6,
   "metadata": {},
   "outputs": [
    {
     "data": {
      "text/plain": [
       "0    Al Hilal (KSA)\n",
       "1    Al Hilal (KSA)\n",
       "2     Al Nasr (KSA)\n",
       "3    Al Hilal (KSA)\n",
       "4    Al Hilal (KSA)\n",
       "5     Leganes (ESP)\n",
       "6     Al Nasr (KSA)\n",
       "7    Al Hilal (KSA)\n",
       "8    Al Hilal (KSA)\n",
       "9     Al Ahli (KSA)\n",
       "Name: club, dtype: object"
      ]
     },
     "execution_count": 6,
     "metadata": {},
     "output_type": "execute_result"
    }
   ],
   "source": [
    "# Dataframe의 컬럼만을 확인하는 것도 가능하다\n",
    "players.club[:10]"
   ]
  },
  {
   "cell_type": "code",
   "execution_count": 7,
   "metadata": {},
   "outputs": [
    {
     "data": {
      "text/plain": [
       "Manchester City (ENG)          16\n",
       "Real Madrid (ESP)              15\n",
       "FC Barcelona (ESP)             14\n",
       "Tottenham Hotspur (ENG)        12\n",
       "Chelsea (ENG)                  12\n",
       "Bayern München (GER)           11\n",
       "Manchester United (ENG)        11\n",
       "Paris Saint-Germain (FRA)      11\n",
       "Juventus (ITA)                 11\n",
       "Atlético Madrid (ESP)           9\n",
       "Al Ahli (KSA)                   9\n",
       "Al Hilal (KSA)                  9\n",
       "AS Monaco (FRA)                 8\n",
       "Leicester (ENG)                 8\n",
       "Liverpool (ENG)                 7\n",
       "Borussia Dortmund (GER)         7\n",
       "Borussia Moenchengla. (GER)     7\n",
       "Arsenal (ENG)                   7\n",
       "Sporting CP (POR)               7\n",
       "Lokomotiv Moskva (RUS)          6\n",
       "Eintracht Frankfurt (GER)       6\n",
       "Al Ahly Cairo (EGY)             6\n",
       "SSC Napoli (ITA)                6\n",
       "Zenit St. Petersburg (RUS)      6\n",
       "CSKA Moskva (RUS)               6\n",
       "Sevilla FC (ESP)                6\n",
       "Sampdoria (ITA)                 5\n",
       "Stoke (ENG)                     5\n",
       "Feyenoord (NED)                 5\n",
       "AC Milan (ITA)                  5\n",
       "                               ..\n",
       "St. Pauli (GER)                 1\n",
       "Alavés (ESP)                    1\n",
       "Watford (ENG)                   1\n",
       "Suwon Samsung Bluewi. (KOR)     1\n",
       "Renaissance Sportive.(MAR)      1\n",
       "Junior (COL)                    1\n",
       "Sport Club Corinthia. (BRA)     1\n",
       "Sportverein Sandhaus. (GER)     1\n",
       "Padideh Khorasan Foo. (IRN)     1\n",
       "Al Fath (KSA)                   1\n",
       "Zob Ahan Isfahan FC (IRN)       1\n",
       "CS Sfaxien (TUN)                1\n",
       "Atlas (MEX)                     1\n",
       "Al Masry (EGY)                  1\n",
       "Tianjin Quanjian Foo. (CHN)     1\n",
       "Cruzeiro (BRA)                  1\n",
       "Club de Fútbol Cafet. (MEX)     1\n",
       "Lokeren (BEL)                   1\n",
       "VfL Bochum (GER)                1\n",
       "Bristol City (ENG)              1\n",
       "Al Sadd (QAT)                   1\n",
       "Saipa (IRN)                     1\n",
       "Maccabi Tel Aviv (ISR)          1\n",
       "Lechia Gdansk (POL)             1\n",
       "Chorrillo (PAN)                 1\n",
       "IFK Östersund FK (SWE)          1\n",
       "Olimpia (HON)                   1\n",
       "DAC Dunajska Streda (SVK)       1\n",
       "Republican Football. (RUS)      1\n",
       "FC Nordsjælland (DEN)           1\n",
       "Name: club, Length: 313, dtype: int64"
      ]
     },
     "execution_count": 7,
     "metadata": {},
     "output_type": "execute_result"
    }
   ],
   "source": [
    "# Dataframe의 각 컬럼은 Series객체로 반환된다\n",
    "# Series에는 value_counts()라는 메소드로 각 값에 대한 갯수를 확인할 수 있다\n",
    "club_count = players.club.value_counts()\n",
    "club_count"
   ]
  },
  {
   "cell_type": "code",
   "execution_count": 8,
   "metadata": {},
   "outputs": [
    {
     "data": {
      "text/plain": [
       "{'1899 Hoffenheim (GER)': 2,\n",
       " 'AA Gent (BEL)': 4,\n",
       " 'AC Milan (ITA)': 5,\n",
       " 'ADO Den Haag (NED)': 1,\n",
       " 'AEK Athinai (GRE)': 1,\n",
       " 'AS Monaco (FRA)': 8,\n",
       " 'AS Roma (ITA)': 3,\n",
       " 'AZ (NED)': 1,\n",
       " 'AaB (DEN)': 1,\n",
       " 'Aberdeen (SCO)': 1,\n",
       " 'Adanaspor (TUR)': 1,\n",
       " 'Ajax (NED)': 4,\n",
       " 'Al Ahli (KSA)': 9,\n",
       " 'Al Ahly Cairo (EGY)': 6,\n",
       " 'Al Ain (UAE)': 1,\n",
       " 'Al Batin Football Cl. (KSA)': 1,\n",
       " 'Al Fath (KSA)': 1,\n",
       " 'Al Gharrafa (QAT)': 1,\n",
       " 'Al Hilal (KSA)': 9,\n",
       " 'Al Ittifaq (KSA)': 2,\n",
       " 'Al Jazeira (UAE)': 1,\n",
       " 'Al Masry (EGY)': 1,\n",
       " 'Al Nasr (KSA)': 3,\n",
       " 'Al Sadd (QAT)': 1,\n",
       " 'Al Shabab (KSA)': 3,\n",
       " 'Al Taawoun Football. (KSA)': 1,\n",
       " 'Al-Raed Sports Club (KSA)': 1,\n",
       " 'Alajuelense (CRC)': 3,\n",
       " 'Alavés (ESP)': 1,\n",
       " 'Alianza Lima (PER)': 1,\n",
       " 'America (MEX)': 3,\n",
       " 'Amiens (FRA)': 1,\n",
       " 'Anderlecht (BEL)': 4,\n",
       " 'Antalyaspor (TUR)': 1,\n",
       " 'Arsenal (ENG)': 7,\n",
       " 'Arsenal Tula (RUS)': 1,\n",
       " 'Asan Mugunghwa Footb. (KOR)': 1,\n",
       " 'Aston Villa (ENG)': 3,\n",
       " 'Atalanta Bergamo (ITA)': 2,\n",
       " 'Athletic Club (ESP)': 1,\n",
       " 'Atlas (MEX)': 1,\n",
       " 'Atlético Madrid (ESP)': 9,\n",
       " 'Atromitos FC (GRE)': 1,\n",
       " 'Bayer Leverkusen (GER)': 2,\n",
       " 'Bayern München (GER)': 11,\n",
       " 'Beijing Guoan (CHN)': 1,\n",
       " 'Benfica (POR)': 5,\n",
       " 'Besiktas (TUR)': 4,\n",
       " 'Beveren (BEL)': 1,\n",
       " 'Birmingham City (ENG)': 1,\n",
       " 'Boca Juniors (ARG)': 3,\n",
       " 'Bologna (ITA)': 4,\n",
       " 'Borussia Dortmund (GER)': 7,\n",
       " 'Borussia Moenchengla. (GER)': 7,\n",
       " 'Brentford (ENG)': 1,\n",
       " 'Brighton (ENG)': 2,\n",
       " 'Bristol City (ENG)': 1,\n",
       " 'Brøndby IF (DEN)': 1,\n",
       " 'Bucaramanga (COL)': 1,\n",
       " 'Burnley (ENG)': 2,\n",
       " 'Bursaspor (TUR)': 4,\n",
       " 'CF Pachuca (MEX)': 3,\n",
       " 'CS Marítimo (POR)': 1,\n",
       " 'CS Sfaxien (TUN)': 1,\n",
       " 'CSKA Moskva (RUS)': 6,\n",
       " 'Caen (FRA)': 2,\n",
       " 'Cali (COL)': 2,\n",
       " 'Cardiff City (WAL)': 2,\n",
       " 'Celta (ESP)': 3,\n",
       " 'Celtic (SCO)': 4,\n",
       " 'Cercle Brugge (BEL)': 1,\n",
       " 'Cerezo Osaka (JPN)': 2,\n",
       " 'Changchun Yatai (CHN)': 1,\n",
       " 'Chateauroux (FRA)': 1,\n",
       " 'Chelsea (ENG)': 12,\n",
       " 'Chippa United FC (RSA)': 1,\n",
       " 'Chorrillo (PAN)': 1,\n",
       " 'Club Africain (TUN)': 2,\n",
       " 'Club Brugge (BEL)': 1,\n",
       " 'Club Centro Deportiv. (PER)': 1,\n",
       " 'Club de Fútbol Cafet. (MEX)': 1,\n",
       " 'Club de Fútbol Lobos. (MEX)': 2,\n",
       " 'Clube de Regatas Vas. (BRA)': 1,\n",
       " 'Crotone FC (ITA)': 2,\n",
       " 'Cruz Azul (MEX)': 1,\n",
       " 'Cruzeiro (BRA)': 1,\n",
       " 'Crvena Zvezda (SRB)': 2,\n",
       " 'Crystal Palace (ENG)': 1,\n",
       " 'DAC Dunajska Streda (SVK)': 1,\n",
       " 'Daegu FC (KOR)': 1,\n",
       " 'Dalian Yifang Footba. (CHN)': 2,\n",
       " 'Deportivo La Coruña (ESP)': 5,\n",
       " 'Dijon (FRA)': 2,\n",
       " 'Dinamo Bucuresti (ROU)': 1,\n",
       " 'Dinamo Zagreb (CRO)': 2,\n",
       " 'Dynamo Kyiv (UKR)': 1,\n",
       " 'ES du Sahel (TUN)': 1,\n",
       " 'Eibar (ESP)': 2,\n",
       " 'Eintracht Frankfurt (GER)': 6,\n",
       " 'Enyimba (NGA)': 1,\n",
       " 'Esperance (TUN)': 2,\n",
       " 'Esteghlal Tehran (IRN)': 4,\n",
       " 'Eupen (BEL)': 1,\n",
       " 'Everton (ENG)': 3,\n",
       " 'FC Augsburg (GER)': 2,\n",
       " 'FC Barcelona (ESP)': 14,\n",
       " 'FC Basel (SUI)': 1,\n",
       " 'FC Köln (GER)': 2,\n",
       " 'FC København (DEN)': 3,\n",
       " 'FC Luzern (SUI)': 1,\n",
       " 'FC Metz (FRA)': 1,\n",
       " 'FC Nordsjælland (DEN)': 1,\n",
       " 'FC Porto (POR)': 4,\n",
       " 'FC Seoul (KOR)': 1,\n",
       " 'FC Tokyo (JPN)': 1,\n",
       " 'FK Amkar Perm (RUS)': 2,\n",
       " 'FK Rostov (RUS)': 3,\n",
       " 'Fenerbahçe (TUR)': 1,\n",
       " 'Feyenoord (NED)': 5,\n",
       " 'Fiorentina (ITA)': 2,\n",
       " 'Flamengo (BRA)': 2,\n",
       " 'Foot Ball Club Melga. (PER)': 1,\n",
       " 'Fortuna Duesseldorf (GER)': 2,\n",
       " 'Fulham (ENG)': 1,\n",
       " 'Galatasaray (TUR)': 3,\n",
       " 'Gamba Osaka (JPN)': 1,\n",
       " 'Genoa (ITA)': 2,\n",
       " 'Getafe CF (ESP)': 2,\n",
       " 'Girona Futbol Club (ESP)': 3,\n",
       " 'Girondins Bordeaux (FRA)': 3,\n",
       " 'Goztepespor (TUR)': 1,\n",
       " 'Grasshoppers (SUI)': 1,\n",
       " 'Grêmio (BRA)': 1,\n",
       " 'Guangzhou Evergrande. (CHN)': 1,\n",
       " 'Guimaraes (POR)': 1,\n",
       " 'Guingamp (FRA)': 1,\n",
       " 'Górnik Zabrze (POL)': 1,\n",
       " 'Hamburger SV (GER)': 3,\n",
       " 'Hannover 96 (GER)': 1,\n",
       " 'Hapoel Beer Sheva (ISR)': 1,\n",
       " 'Hebei Huabei (CHN)': 1,\n",
       " 'Herediano (CRC)': 2,\n",
       " 'Hertha BSC (GER)': 2,\n",
       " 'Hibernian (SCO)': 1,\n",
       " 'Horoya Athlétique Cl. (GUI)': 1,\n",
       " 'Houston Dynamo (USA)': 1,\n",
       " 'Huachipato (CHI)': 1,\n",
       " 'Huddersfield (ENG)': 3,\n",
       " 'Hull City (ENG)': 3,\n",
       " 'IFK Östersund FK (SWE)': 1,\n",
       " 'IRT Tanger (MAR)': 1,\n",
       " 'Incheon United (KOR)': 1,\n",
       " 'Independiente (ARG)': 3,\n",
       " 'Internazionale (ITA)': 4,\n",
       " 'Ipswich Town (ENG)': 2,\n",
       " 'Istanbul Başakşehir .(TUR)': 1,\n",
       " 'Jeju United (KOR)': 1,\n",
       " 'Jeonbuk Motors (KOR)': 3,\n",
       " 'Junior (COL)': 1,\n",
       " 'Juventus (ITA)': 11,\n",
       " 'KV Oostende (BEL)': 1,\n",
       " 'Karabukspor (TUR)': 1,\n",
       " 'Kashima Antlers (JPN)': 2,\n",
       " 'Kashiwa Reysol (JPN)': 1,\n",
       " 'Kasimpasa SK (TUR)': 3,\n",
       " 'Kawasaki Frontale (JPN)': 1,\n",
       " 'Krasnodar (RUS)': 4,\n",
       " 'Kuopion Palloseura (FIN)': 1,\n",
       " 'LA Galaxy (USA)': 2,\n",
       " 'Las Palmas (ESP)': 1,\n",
       " 'Lausanne (SUI)': 1,\n",
       " 'Lazio (ITA)': 2,\n",
       " 'Lechia Gdansk (POL)': 1,\n",
       " 'Leeds (ENG)': 1,\n",
       " 'Leganes (ESP)': 2,\n",
       " 'Legia Warszawa (POL)': 2,\n",
       " 'Leicester (ENG)': 8,\n",
       " 'Levante UD (ESP)': 2,\n",
       " 'Levski Sofia (BUL)': 1,\n",
       " 'Lille OSC (FRA)': 1,\n",
       " 'Liverpool (ENG)': 7,\n",
       " 'Lokeren (BEL)': 1,\n",
       " 'Lokomotiv Moskva (RUS)': 6,\n",
       " 'Los Angeles Football. (USA)': 3,\n",
       " 'Maccabi Tel Aviv (ISR)': 1,\n",
       " 'Mainz 05 (GER)': 2,\n",
       " 'Malaga (ESP)': 1,\n",
       " 'Malatyaspor (TUR)': 1,\n",
       " 'Malmö FF (SWE)': 1,\n",
       " 'Manchester City (ENG)': 16,\n",
       " 'Manchester United (ENG)': 11,\n",
       " 'Melbourne City Footb. (AUS)': 1,\n",
       " 'Millwall (ENG)': 2,\n",
       " 'Minnesota (USA)': 1,\n",
       " 'Monarcas Morelia (MEX)': 1,\n",
       " 'Monterrey (MEX)': 2,\n",
       " 'Montpellier (FRA)': 1,\n",
       " 'Municipal (GUA)': 2,\n",
       " 'NK Rijeka (CRO)': 1,\n",
       " 'Nantes (FRA)': 1,\n",
       " 'New York (USA)': 2,\n",
       " 'New York City Footba. (USA)': 1,\n",
       " 'Newcastle Jets  (AUS)': 1,\n",
       " 'Norrkoping (SWE)': 1,\n",
       " 'Nottingham Forest FC (ENG)': 1,\n",
       " 'Numancia (ESP)': 1,\n",
       " 'OGC Nice (FRA)': 1,\n",
       " 'Olimpia (HON)': 1,\n",
       " 'Olimpia (PAR)': 1,\n",
       " 'Olympiacos (GRE)': 2,\n",
       " 'Olympique Lyon (FRA)': 2,\n",
       " 'Olympique Marseille (FRA)': 4,\n",
       " 'Once Caldas (COL)': 1,\n",
       " 'Orlando City SC (USA)': 1,\n",
       " 'PAOK (GRE)': 1,\n",
       " 'PFC Ludogorets Razgr. (BGR)': 1,\n",
       " 'PSV (NED)': 3,\n",
       " 'Padideh Khorasan Foo. (IRN)': 1,\n",
       " 'Palmeiras (BRA)': 1,\n",
       " 'Paris Saint-Germain  (FRA)': 1,\n",
       " 'Paris Saint-Germain (FRA)': 11,\n",
       " 'Partizan Beograd (SRB)': 1,\n",
       " 'Persepolis Football. (IRN)': 2,\n",
       " 'Peñarol (URU)': 2,\n",
       " 'Plaza Amador (PAN)': 1,\n",
       " 'Portland Timbers (USA)': 2,\n",
       " 'Puebla FC (MEX)': 1,\n",
       " 'Pumas UNAM (MEX)': 1,\n",
       " 'Queens Park Rangers (ENG)': 1,\n",
       " 'RCD Espanyol (ESP)': 2,\n",
       " 'Racing Genk (BEL)': 1,\n",
       " 'Randers FC (DEN)': 1,\n",
       " 'Rangers (SCO)': 1,\n",
       " 'RasenBallsport Leipz. (GER)': 4,\n",
       " 'Reading (ENG)': 1,\n",
       " 'Real Betis (ESP)': 2,\n",
       " 'Real Madrid (ESP)': 15,\n",
       " 'Real Sociedad (ESP)': 3,\n",
       " 'Red Bull Salzburg (AUT)': 2,\n",
       " 'Renaissance Sportive.(MAR)': 1,\n",
       " 'Rennes (FRA)': 4,\n",
       " 'Republican Football . (RUS)': 1,\n",
       " 'Republican Football. (RUS)': 1,\n",
       " 'River Plate (ARG)': 3,\n",
       " 'Roskilde BK (DEN)': 1,\n",
       " 'Rubin Kazan (RUS)': 3,\n",
       " 'SSC Napoli (ITA)': 6,\n",
       " 'Sagan Tosu Football. (JPN)': 1,\n",
       " 'Saipa (IRN)': 1,\n",
       " 'Sampdoria (ITA)': 5,\n",
       " 'San Francisco (PAN)': 1,\n",
       " 'San Jose Earthquakes (USA)': 2,\n",
       " 'Sangmu (KOR)': 2,\n",
       " 'Saprissa (CRC)': 3,\n",
       " 'Schalke 04 (GER)': 4,\n",
       " 'Seattle Sounders (USA)': 2,\n",
       " 'Seongnam Ilhwa Chunm. (KOR)': 1,\n",
       " 'Sevilla FC (ESP)': 6,\n",
       " 'Shakhtar Donetsk  (UKR)': 2,\n",
       " 'Southampton (ENG)': 4,\n",
       " 'Spal Ferrara (ITA)': 2,\n",
       " 'Spartak Moskva (RUS)': 3,\n",
       " 'Sport Boys Associati. (PER)': 1,\n",
       " 'Sport Club Corinthia.  (BRA)': 1,\n",
       " 'Sport Club Corinthia. (BRA)': 1,\n",
       " 'Sporting CP (POR)': 7,\n",
       " 'Sportverein Sandhaus. (GER)': 1,\n",
       " 'St. Pauli (GER)': 1,\n",
       " 'Standard Liège (BEL)': 2,\n",
       " 'Stoke (ENG)': 5,\n",
       " 'Sunderland (ENG)': 1,\n",
       " 'Suwon Samsung Bluewi. (KOR)': 1,\n",
       " 'Swansea City (WAL)': 4,\n",
       " 'São Paulo (BRA)': 1,\n",
       " 'Tianjin Quanjian Foo. (CHN)': 1,\n",
       " 'Tianjin Teda (CHN)': 1,\n",
       " 'Tigres (MEX)': 3,\n",
       " 'Toluca (MEX)': 1,\n",
       " 'Torino (ITA)': 4,\n",
       " 'Tottenham Hotspur (ENG)': 12,\n",
       " 'Toulouse FC (FRA)': 3,\n",
       " 'Trabzonspor (TUR)': 1,\n",
       " 'Troyes (FRA)': 1,\n",
       " 'Udinese (ITA)': 3,\n",
       " 'Ulsan Hyundai (KOR)': 1,\n",
       " 'Universidad Técnica . (PER)': 1,\n",
       " 'Universidad de Chile (CHI)': 1,\n",
       " 'Universitario (PER)': 1,\n",
       " 'Urawa Reds (JPN)': 3,\n",
       " 'Valencia CF (ESP)': 2,\n",
       " 'Valur (ISL)': 1,\n",
       " 'Vancouver Whitecaps (CAN)': 1,\n",
       " 'Veracruz (MEX)': 3,\n",
       " 'Verona (ITA)': 1,\n",
       " 'VfB Stuttgart (GER)': 2,\n",
       " 'VfL Bochum (GER)': 1,\n",
       " 'VfL Wolfsburg (GER)': 2,\n",
       " 'Villarreal CF (ESP)': 4,\n",
       " 'Vissel Kobe (JPN)': 2,\n",
       " 'Vålerenga Fotball (NOR)': 1,\n",
       " 'Watford (ENG)': 1,\n",
       " 'Werder Bremen (GER)': 3,\n",
       " 'West Bromwich Albion. (ENG)': 4,\n",
       " 'West Ham United (ENG)': 3,\n",
       " 'Western Sydney Wande. (AUS)': 1,\n",
       " 'Wigan Athletic (ENG)': 1,\n",
       " 'Wolverhampton (ENG)': 2,\n",
       " 'Yokohama F Marinos  (JPN)': 1,\n",
       " 'Zamalek (EGY)': 3,\n",
       " 'Zenit St. Petersburg (RUS)': 6,\n",
       " 'Zob Ahan Isfahan FC (IRN)': 1,\n",
       " 'sc Heerenveen (NED)': 1,\n",
       " 'Águilas Doradas Rion. (COL)': 1}"
      ]
     },
     "execution_count": 8,
     "metadata": {},
     "output_type": "execute_result"
    }
   ],
   "source": [
    "# 순수 파이썬이었다면....\n",
    "def get_counts(club_list):\n",
    "    counts = {}\n",
    "    for x in club_list:\n",
    "        if x in counts:\n",
    "            counts[x] += 1\n",
    "        else:\n",
    "            counts[x]  = 1\n",
    "    return counts\n",
    "\n",
    "get_counts(players.club.tolist())"
   ]
  },
  {
   "cell_type": "markdown",
   "metadata": {},
   "source": [
    "### matplotlib를 활용해 위의 결과로 그래프를 그려보기\n",
    "\n",
    "- matplotlib : 데이터 시각화를 위한 파이썬 패키지"
   ]
  },
  {
   "cell_type": "code",
   "execution_count": 9,
   "metadata": {},
   "outputs": [
    {
     "name": "stdout",
     "output_type": "stream",
     "text": [
      "Requirement already satisfied: matplotlib in /Users/grace/workspace/keras/venv/lib/python3.6/site-packages (2.2.2)\n",
      "Requirement already satisfied: kiwisolver>=1.0.1 in /Users/grace/workspace/keras/venv/lib/python3.6/site-packages (from matplotlib) (1.0.1)\n",
      "Requirement already satisfied: python-dateutil>=2.1 in /Users/grace/workspace/keras/venv/lib/python3.6/site-packages (from matplotlib) (2.7.3)\n",
      "Requirement already satisfied: pytz in /Users/grace/workspace/keras/venv/lib/python3.6/site-packages (from matplotlib) (2018.4)\n",
      "Requirement already satisfied: numpy>=1.7.1 in /Users/grace/workspace/keras/venv/lib/python3.6/site-packages (from matplotlib) (1.14.4)\n",
      "Requirement already satisfied: six>=1.10 in /Users/grace/workspace/keras/venv/lib/python3.6/site-packages (from matplotlib) (1.10.0)\n",
      "Requirement already satisfied: cycler>=0.10 in /Users/grace/workspace/keras/venv/lib/python3.6/site-packages (from matplotlib) (0.10.0)\n",
      "Requirement already satisfied: pyparsing!=2.0.4,!=2.1.2,!=2.1.6,>=2.0.1 in /Users/grace/workspace/keras/venv/lib/python3.6/site-packages (from matplotlib) (2.2.0)\n",
      "Requirement already satisfied: setuptools in /Users/grace/workspace/keras/venv/lib/python3.6/site-packages (from kiwisolver>=1.0.1->matplotlib) (39.1.0)\n",
      "\u001b[31mtextract 1.6.1 has requirement chardet==2.3.0, but you'll have chardet 3.0.4 which is incompatible.\u001b[0m\n",
      "\u001b[31mspyder-kernels 0.2.6 has requirement ipykernel>=4.8.2, but you'll have ipykernel 4.8.1 which is incompatible.\u001b[0m\n",
      "\u001b[31mspyder-kernels 0.2.6 has requirement jupyter-client>=5.2.3, but you'll have jupyter-client 5.2.2 which is incompatible.\u001b[0m\n",
      "\u001b[31mspyder-kernels 0.2.6 has requirement pyzmq>=17, but you'll have pyzmq 16.0.4 which is incompatible.\u001b[0m\n",
      "\u001b[33mYou are using pip version 10.0.1, however version 18.1 is available.\n",
      "You should consider upgrading via the 'pip install --upgrade pip' command.\u001b[0m\n"
     ]
    }
   ],
   "source": [
    "!pip install matplotlib"
   ]
  },
  {
   "cell_type": "code",
   "execution_count": 10,
   "metadata": {},
   "outputs": [],
   "source": [
    "import matplotlib"
   ]
  },
  {
   "cell_type": "code",
   "execution_count": 11,
   "metadata": {},
   "outputs": [
    {
     "data": {
      "text/plain": [
       "<matplotlib.axes._subplots.AxesSubplot at 0x1081f6d30>"
      ]
     },
     "execution_count": 11,
     "metadata": {},
     "output_type": "execute_result"
    }
   ],
   "source": [
    "club_count[:10].plot(kind='barh', rot=0)"
   ]
  },
  {
   "cell_type": "code",
   "execution_count": 12,
   "metadata": {},
   "outputs": [
    {
     "data": {
      "text/plain": [
       "<matplotlib.axes._subplots.AxesSubplot at 0x1087a9cc0>"
      ]
     },
     "execution_count": 12,
     "metadata": {},
     "output_type": "execute_result"
    },
    {
     "data": {
      "image/png": "[encoded data removed]",
      "text/plain": [
       "<Figure size 432x288 with 1 Axes>"
      ]
     },
     "metadata": {},
     "output_type": "display_data"
    }
   ],
   "source": [
    "club_count_more_than_5 = club_count.where(lambda x : x>5).dropna()\n",
    "club_count_more_than_5.plot(kind='barh', rot=0)"
   ]
  },
  {
   "cell_type": "markdown",
   "metadata": {},
   "source": [
    "### 나라 별 클럽 팀 세보기"
   ]
  },
  {
   "cell_type": "code",
   "execution_count": 13,
   "metadata": {},
   "outputs": [
    {
     "data": {
      "text/plain": [
       "0    KSA\n",
       "1    KSA\n",
       "2    KSA\n",
       "3    KSA\n",
       "4    KSA\n",
       "5    ESP\n",
       "6    KSA\n",
       "7    KSA\n",
       "8    KSA\n",
       "9    KSA\n",
       "Name: club_country, dtype: object"
      ]
     },
     "execution_count": 13,
     "metadata": {},
     "output_type": "execute_result"
    }
   ],
   "source": [
    "# club 정보에서 해당 클럽의 나라 정보 찾기\n",
    "players['club_country'] = players.club.str.split('(').str[1].str.strip(')')\n",
    "players.club_country[:10]"
   ]
  },
  {
   "cell_type": "code",
   "execution_count": 14,
   "metadata": {},
   "outputs": [],
   "source": [
    "# 정규식을 활용해 추출하는 메소드 extract()를 제공한다\n",
    "# players.club.str.extract(r'([(])([A-Z]+)([)])', expand=False)"
   ]
  },
  {
   "cell_type": "code",
   "execution_count": 15,
   "metadata": {},
   "outputs": [
    {
     "data": {
      "text/plain": [
       "ENG    123\n",
       "ESP     81\n",
       "GER     67\n",
       "ITA     58\n",
       "FRA     49\n",
       "RUS     36\n",
       "KSA     30\n",
       "MEX     23\n",
       "TUR     22\n",
       "POR     18\n",
       "Name: club_country, dtype: int64"
      ]
     },
     "execution_count": 15,
     "metadata": {},
     "output_type": "execute_result"
    }
   ],
   "source": [
    "players.club_country.value_counts()[:10]"
   ]
  },
  {
   "cell_type": "code",
   "execution_count": 16,
   "metadata": {},
   "outputs": [
    {
     "data": {
      "text/plain": [
       "<matplotlib.axes._subplots.AxesSubplot at 0x108971828>"
      ]
     },
     "execution_count": 16,
     "metadata": {},
     "output_type": "execute_result"
    },
    {
     "data": {
      "image/png": "[encoded data removed]",
      "text/plain": [
       "<Figure size 432x288 with 1 Axes>"
      ]
     },
     "metadata": {},
     "output_type": "display_data"
    }
   ],
   "source": [
    "country_count_top_10 = players.club_country.value_counts()[:10]\n",
    "country_count_top_10.plot(kind='barh')"
   ]
  },
  {
   "cell_type": "code",
   "execution_count": 17,
   "metadata": {},
   "outputs": [
    {
     "data": {
      "text/plain": [
       "<matplotlib.axes._subplots.AxesSubplot at 0x1088b9898>"
      ]
     },
     "execution_count": 17,
     "metadata": {},
     "output_type": "execute_result"
    },
    {
     "data": {
      "image/png": "[encoded data removed]",
      "text/plain": [
       "<Figure size 432x288 with 1 Axes>"
      ]
     },
     "metadata": {},
     "output_type": "display_data"
    }
   ],
   "source": [
    "country_count_top_10.plot(kind='pie')"
   ]
  },
  {
   "cell_type": "code",
   "execution_count": null,
   "metadata": {},
   "outputs": [],
   "source": []
  }
 ],
 "metadata": {
  "kernelspec": {
   "display_name": "Python 3",
   "language": "python",
   "name": "python3"
  },
  "language_info": {
   "codemirror_mode": {
    "name": "ipython",
    "version": 3
   },
   "file_extension": ".py",
   "mimetype": "text/x-python",
   "name": "python",
   "nbconvert_exporter": "python",
   "pygments_lexer": "ipython3",
   "version": "3.6.4"
  }
 },
 "nbformat": 4,
 "nbformat_minor": 2
}
